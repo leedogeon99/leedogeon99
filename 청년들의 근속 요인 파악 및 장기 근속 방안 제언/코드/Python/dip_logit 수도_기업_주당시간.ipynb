{
 "cells": [
  {
   "cell_type": "markdown",
   "metadata": {},
   "source": [
    "#### packages"
   ]
  },
  {
   "cell_type": "code",
   "execution_count": 20,
   "metadata": {},
   "outputs": [],
   "source": [
    "import pandas as pd\n",
    "import numpy as np\n",
    "import statsmodels.api as sm\n",
    "import sklearn\n",
    "import scipy\n",
    "import matplotlib.pyplot as plt\n",
    "import forestplot as fp"
   ]
  },
  {
   "cell_type": "code",
   "execution_count": 21,
   "metadata": {},
   "outputs": [],
   "source": [
    "pd.options.display.float_format = '{:.5f}'.format"
   ]
  },
  {
   "cell_type": "code",
   "execution_count": 22,
   "metadata": {},
   "outputs": [],
   "source": [
    "from matplotlib import font_manager, rc\n",
    "rc('font', family='AppleGothic')\n",
    "plt.rcParams['axes.unicode_minus'] = False"
   ]
  },
  {
   "cell_type": "markdown",
   "metadata": {},
   "source": [
    "##### Data"
   ]
  },
  {
   "cell_type": "code",
   "execution_count": 23,
   "metadata": {},
   "outputs": [
    {
     "data": {
      "text/plain": [
       "pid              0\n",
       "majorcat         0\n",
       "province         0\n",
       "area             0\n",
       "sex              0\n",
       "                ..\n",
       "주당근로시간           0\n",
       "주당근로시간_binary    0\n",
       "직장에서의복리후생제공여부    0\n",
       "보험가입여부           0\n",
       "직장만족도            0\n",
       "Length: 141, dtype: int64"
      ]
     },
     "execution_count": 23,
     "metadata": {},
     "output_type": "execute_result"
    }
   ],
   "source": [
    "df = pd.read_csv('/Users/idogeon/Desktop/포트폴리오/DIP/데이터/re_0826.csv', encoding='cp949')\n",
    "df.isnull().sum()"
   ]
  },
  {
   "cell_type": "code",
   "execution_count": 24,
   "metadata": {},
   "outputs": [],
   "source": [
    "df_copy = df.copy()"
   ]
  },
  {
   "cell_type": "code",
   "execution_count": 25,
   "metadata": {},
   "outputs": [
    {
     "name": "stdout",
     "output_type": "stream",
     "text": [
      "Optimization terminated successfully.\n",
      "         Current function value: 0.363320\n",
      "         Iterations 6\n",
      "==================================Model Summary=========================================\n"
     ]
    },
    {
     "data": {
      "text/html": [
       "<table class=\"simpletable\">\n",
       "<caption>Logit Regression Results</caption>\n",
       "<tr>\n",
       "  <th>Dep. Variable:</th>       <td>LongWork2</td>    <th>  No. Observations:  </th>  <td>  2333</td>  \n",
       "</tr>\n",
       "<tr>\n",
       "  <th>Model:</th>                 <td>Logit</td>      <th>  Df Residuals:      </th>  <td>  2330</td>  \n",
       "</tr>\n",
       "<tr>\n",
       "  <th>Method:</th>                 <td>MLE</td>       <th>  Df Model:          </th>  <td>     2</td>  \n",
       "</tr>\n",
       "<tr>\n",
       "  <th>Date:</th>            <td>Tue, 05 Nov 2024</td> <th>  Pseudo R-squ.:     </th>  <td>0.02125</td> \n",
       "</tr>\n",
       "<tr>\n",
       "  <th>Time:</th>                <td>00:13:12</td>     <th>  Log-Likelihood:    </th> <td> -847.62</td> \n",
       "</tr>\n",
       "<tr>\n",
       "  <th>converged:</th>             <td>True</td>       <th>  LL-Null:           </th> <td> -866.03</td> \n",
       "</tr>\n",
       "<tr>\n",
       "  <th>Covariance Type:</th>     <td>nonrobust</td>    <th>  LLR p-value:       </th> <td>1.019e-08</td>\n",
       "</tr>\n",
       "</table>\n",
       "<table class=\"simpletable\">\n",
       "<tr>\n",
       "                         <td></td>                           <th>coef</th>     <th>std err</th>      <th>z</th>      <th>P>|z|</th>  <th>[0.025</th>    <th>0.975]</th>  \n",
       "</tr>\n",
       "<tr>\n",
       "  <th>Intercept</th>                                      <td>   -2.0843</td> <td>    0.099</td> <td>  -21.110</td> <td> 0.000</td> <td>   -2.278</td> <td>   -1.891</td>\n",
       "</tr>\n",
       "<tr>\n",
       "  <th>C(직장에서의복리후생제공여부, Treatment('제공하지않는다'))[T.제공한다]</th> <td>    0.9265</td> <td>    0.147</td> <td>    6.291</td> <td> 0.000</td> <td>    0.638</td> <td>    1.215</td>\n",
       "</tr>\n",
       "<tr>\n",
       "  <th>C(보험가입여부, Treatment('가입하지않음'))[T.가입했다]</th>         <td>   -0.1744</td> <td>    0.133</td> <td>   -1.307</td> <td> 0.191</td> <td>   -0.436</td> <td>    0.087</td>\n",
       "</tr>\n",
       "</table>"
      ],
      "text/plain": [
       "<class 'statsmodels.iolib.summary.Summary'>\n",
       "\"\"\"\n",
       "                           Logit Regression Results                           \n",
       "==============================================================================\n",
       "Dep. Variable:              LongWork2   No. Observations:                 2333\n",
       "Model:                          Logit   Df Residuals:                     2330\n",
       "Method:                           MLE   Df Model:                            2\n",
       "Date:                Tue, 05 Nov 2024   Pseudo R-squ.:                 0.02125\n",
       "Time:                        00:13:12   Log-Likelihood:                -847.62\n",
       "converged:                       True   LL-Null:                       -866.03\n",
       "Covariance Type:            nonrobust   LLR p-value:                 1.019e-08\n",
       "==================================================================================================================\n",
       "                                                     coef    std err          z      P>|z|      [0.025      0.975]\n",
       "------------------------------------------------------------------------------------------------------------------\n",
       "Intercept                                         -2.0843      0.099    -21.110      0.000      -2.278      -1.891\n",
       "C(직장에서의복리후생제공여부, Treatment('제공하지않는다'))[T.제공한다]     0.9265      0.147      6.291      0.000       0.638       1.215\n",
       "C(보험가입여부, Treatment('가입하지않음'))[T.가입했다]            -0.1744      0.133     -1.307      0.191      -0.436       0.087\n",
       "==================================================================================================================\n",
       "\"\"\""
      ]
     },
     "execution_count": 25,
     "metadata": {},
     "output_type": "execute_result"
    }
   ],
   "source": [
    "수도권 = df_copy[(df_copy['사업체지역']=='서울')|(df_copy['사업체지역']=='경기')].copy()\n",
    "\n",
    "model_1 = sm.Logit.from_formula('''LongWork2 ~ C(직장에서의복리후생제공여부,Treatment('제공하지않는다'))\n",
    "    + C(보험가입여부,Treatment('가입하지않음'))''', 수도권).fit()\n",
    "print('==================================Model Summary=========================================')\n",
    "model_1.summary()"
   ]
  },
  {
   "cell_type": "code",
   "execution_count": 26,
   "metadata": {},
   "outputs": [
    {
     "name": "stdout",
     "output_type": "stream",
     "text": [
      "==================================Odds Ratio=========================================\n"
     ]
    },
    {
     "data": {
      "text/html": [
       "<div>\n",
       "<style scoped>\n",
       "    .dataframe tbody tr th:only-of-type {\n",
       "        vertical-align: middle;\n",
       "    }\n",
       "\n",
       "    .dataframe tbody tr th {\n",
       "        vertical-align: top;\n",
       "    }\n",
       "\n",
       "    .dataframe thead th {\n",
       "        text-align: right;\n",
       "    }\n",
       "</style>\n",
       "<table border=\"1\" class=\"dataframe\">\n",
       "  <thead>\n",
       "    <tr style=\"text-align: right;\">\n",
       "      <th></th>\n",
       "      <th>OR</th>\n",
       "      <th>Lower CI</th>\n",
       "      <th>Upper CI</th>\n",
       "    </tr>\n",
       "  </thead>\n",
       "  <tbody>\n",
       "    <tr>\n",
       "      <th>Intercept</th>\n",
       "      <td>0.12439</td>\n",
       "      <td>0.10251</td>\n",
       "      <td>0.15095</td>\n",
       "    </tr>\n",
       "    <tr>\n",
       "      <th>C(직장에서의복리후생제공여부, Treatment('제공하지않는다'))[T.제공한다]</th>\n",
       "      <td>2.52566</td>\n",
       "      <td>1.89243</td>\n",
       "      <td>3.37078</td>\n",
       "    </tr>\n",
       "    <tr>\n",
       "      <th>C(보험가입여부, Treatment('가입하지않음'))[T.가입했다]</th>\n",
       "      <td>0.83995</td>\n",
       "      <td>0.64671</td>\n",
       "      <td>1.09094</td>\n",
       "    </tr>\n",
       "  </tbody>\n",
       "</table>\n",
       "</div>"
      ],
      "text/plain": [
       "                                                    OR  Lower CI  Upper CI\n",
       "Intercept                                      0.12439   0.10251   0.15095\n",
       "C(직장에서의복리후생제공여부, Treatment('제공하지않는다'))[T.제공한다] 2.52566   1.89243   3.37078\n",
       "C(보험가입여부, Treatment('가입하지않음'))[T.가입했다]         0.83995   0.64671   1.09094"
      ]
     },
     "execution_count": 26,
     "metadata": {},
     "output_type": "execute_result"
    }
   ],
   "source": [
    "print('==================================Odds Ratio=========================================')\n",
    "# 오즈비 계산(Confidence interval 포함)\n",
    "odds_ratios_1 = pd.DataFrame(\n",
    "    {\n",
    "        \"OR\": model_1.params,\n",
    "        \"Lower CI\": model_1.conf_int()[0],\n",
    "        \"Upper CI\": model_1.conf_int()[1],\n",
    "    }\n",
    ")\n",
    "odds_ratios_1 = np.exp(odds_ratios_1)\n",
    "odds_ratios_1"
   ]
  },
  {
   "cell_type": "code",
   "execution_count": 33,
   "metadata": {},
   "outputs": [
    {
     "name": "stdout",
     "output_type": "stream",
     "text": [
      "Optimization terminated successfully.\n",
      "         Current function value: 0.361594\n",
      "         Iterations 6\n",
      "==================================Model Summary=========================================\n"
     ]
    },
    {
     "data": {
      "text/html": [
       "<table class=\"simpletable\">\n",
       "<caption>Logit Regression Results</caption>\n",
       "<tr>\n",
       "  <th>Dep. Variable:</th>       <td>LongWork2</td>    <th>  No. Observations:  </th>  <td>  2333</td>  \n",
       "</tr>\n",
       "<tr>\n",
       "  <th>Model:</th>                 <td>Logit</td>      <th>  Df Residuals:      </th>  <td>  2329</td>  \n",
       "</tr>\n",
       "<tr>\n",
       "  <th>Method:</th>                 <td>MLE</td>       <th>  Df Model:          </th>  <td>     3</td>  \n",
       "</tr>\n",
       "<tr>\n",
       "  <th>Date:</th>            <td>Tue, 05 Nov 2024</td> <th>  Pseudo R-squ.:     </th>  <td>0.02590</td> \n",
       "</tr>\n",
       "<tr>\n",
       "  <th>Time:</th>                <td>00:17:23</td>     <th>  Log-Likelihood:    </th> <td> -843.60</td> \n",
       "</tr>\n",
       "<tr>\n",
       "  <th>converged:</th>             <td>True</td>       <th>  LL-Null:           </th> <td> -866.03</td> \n",
       "</tr>\n",
       "<tr>\n",
       "  <th>Covariance Type:</th>     <td>nonrobust</td>    <th>  LLR p-value:       </th> <td>9.924e-10</td>\n",
       "</tr>\n",
       "</table>\n",
       "<table class=\"simpletable\">\n",
       "<tr>\n",
       "                         <td></td>                           <th>coef</th>     <th>std err</th>      <th>z</th>      <th>P>|z|</th>  <th>[0.025</th>    <th>0.975]</th>  \n",
       "</tr>\n",
       "<tr>\n",
       "  <th>Intercept</th>                                      <td>   -1.6527</td> <td>    0.175</td> <td>   -9.443</td> <td> 0.000</td> <td>   -1.996</td> <td>   -1.310</td>\n",
       "</tr>\n",
       "<tr>\n",
       "  <th>C(직장에서의복리후생제공여부, Treatment('제공하지않는다'))[T.제공한다]</th> <td>    0.9824</td> <td>    0.150</td> <td>    6.553</td> <td> 0.000</td> <td>    0.689</td> <td>    1.276</td>\n",
       "</tr>\n",
       "<tr>\n",
       "  <th>C(보험가입여부, Treatment('가입하지않음'))[T.가입했다]</th>         <td>   -0.0260</td> <td>    0.146</td> <td>   -0.179</td> <td> 0.858</td> <td>   -0.311</td> <td>    0.259</td>\n",
       "</tr>\n",
       "<tr>\n",
       "  <th>주당근로시간</th>                                         <td>   -0.0155</td> <td>    0.005</td> <td>   -2.847</td> <td> 0.004</td> <td>   -0.026</td> <td>   -0.005</td>\n",
       "</tr>\n",
       "</table>"
      ],
      "text/plain": [
       "<class 'statsmodels.iolib.summary.Summary'>\n",
       "\"\"\"\n",
       "                           Logit Regression Results                           \n",
       "==============================================================================\n",
       "Dep. Variable:              LongWork2   No. Observations:                 2333\n",
       "Model:                          Logit   Df Residuals:                     2329\n",
       "Method:                           MLE   Df Model:                            3\n",
       "Date:                Tue, 05 Nov 2024   Pseudo R-squ.:                 0.02590\n",
       "Time:                        00:17:23   Log-Likelihood:                -843.60\n",
       "converged:                       True   LL-Null:                       -866.03\n",
       "Covariance Type:            nonrobust   LLR p-value:                 9.924e-10\n",
       "==================================================================================================================\n",
       "                                                     coef    std err          z      P>|z|      [0.025      0.975]\n",
       "------------------------------------------------------------------------------------------------------------------\n",
       "Intercept                                         -1.6527      0.175     -9.443      0.000      -1.996      -1.310\n",
       "C(직장에서의복리후생제공여부, Treatment('제공하지않는다'))[T.제공한다]     0.9824      0.150      6.553      0.000       0.689       1.276\n",
       "C(보험가입여부, Treatment('가입하지않음'))[T.가입했다]            -0.0260      0.146     -0.179      0.858      -0.311       0.259\n",
       "주당근로시간                                            -0.0155      0.005     -2.847      0.004      -0.026      -0.005\n",
       "==================================================================================================================\n",
       "\"\"\""
      ]
     },
     "execution_count": 33,
     "metadata": {},
     "output_type": "execute_result"
    }
   ],
   "source": [
    "model_2 = sm.Logit.from_formula('''LongWork2 ~ + C(직장에서의복리후생제공여부,Treatment('제공하지않는다'))\n",
    "    +  C(보험가입여부,Treatment('가입하지않음')) + 주당근로시간''', 수도권).fit()\n",
    "print('==================================Model Summary=========================================')\n",
    "model_2.summary()"
   ]
  },
  {
   "cell_type": "code",
   "execution_count": 34,
   "metadata": {},
   "outputs": [
    {
     "name": "stdout",
     "output_type": "stream",
     "text": [
      "==================================Odds Ratio=========================================\n"
     ]
    },
    {
     "data": {
      "text/html": [
       "<div>\n",
       "<style scoped>\n",
       "    .dataframe tbody tr th:only-of-type {\n",
       "        vertical-align: middle;\n",
       "    }\n",
       "\n",
       "    .dataframe tbody tr th {\n",
       "        vertical-align: top;\n",
       "    }\n",
       "\n",
       "    .dataframe thead th {\n",
       "        text-align: right;\n",
       "    }\n",
       "</style>\n",
       "<table border=\"1\" class=\"dataframe\">\n",
       "  <thead>\n",
       "    <tr style=\"text-align: right;\">\n",
       "      <th></th>\n",
       "      <th>OR</th>\n",
       "      <th>Lower CI</th>\n",
       "      <th>Upper CI</th>\n",
       "    </tr>\n",
       "  </thead>\n",
       "  <tbody>\n",
       "    <tr>\n",
       "      <th>Intercept</th>\n",
       "      <td>0.19153</td>\n",
       "      <td>0.13591</td>\n",
       "      <td>0.26990</td>\n",
       "    </tr>\n",
       "    <tr>\n",
       "      <th>C(직장에서의복리후생제공여부, Treatment('제공하지않는다'))[T.제공한다]</th>\n",
       "      <td>2.67082</td>\n",
       "      <td>1.99085</td>\n",
       "      <td>3.58303</td>\n",
       "    </tr>\n",
       "    <tr>\n",
       "      <th>C(보험가입여부, Treatment('가입하지않음'))[T.가입했다]</th>\n",
       "      <td>0.97432</td>\n",
       "      <td>0.73254</td>\n",
       "      <td>1.29591</td>\n",
       "    </tr>\n",
       "    <tr>\n",
       "      <th>주당근로시간</th>\n",
       "      <td>0.98458</td>\n",
       "      <td>0.97411</td>\n",
       "      <td>0.99517</td>\n",
       "    </tr>\n",
       "  </tbody>\n",
       "</table>\n",
       "</div>"
      ],
      "text/plain": [
       "                                                    OR  Lower CI  Upper CI\n",
       "Intercept                                      0.19153   0.13591   0.26990\n",
       "C(직장에서의복리후생제공여부, Treatment('제공하지않는다'))[T.제공한다] 2.67082   1.99085   3.58303\n",
       "C(보험가입여부, Treatment('가입하지않음'))[T.가입했다]         0.97432   0.73254   1.29591\n",
       "주당근로시간                                         0.98458   0.97411   0.99517"
      ]
     },
     "execution_count": 34,
     "metadata": {},
     "output_type": "execute_result"
    }
   ],
   "source": [
    "print('==================================Odds Ratio=========================================')\n",
    "# 오즈비 계산(Confidence interval 포함)\n",
    "odds_ratios_2 = pd.DataFrame(\n",
    "    {\n",
    "        \"OR\": model_2.params,\n",
    "        \"Lower CI\": model_2.conf_int()[0],\n",
    "        \"Upper CI\": model_2.conf_int()[1],\n",
    "    }\n",
    ")\n",
    "odds_ratios_2 = np.exp(odds_ratios_2)\n",
    "odds_ratios_2"
   ]
  },
  {
   "cell_type": "code",
   "execution_count": 35,
   "metadata": {},
   "outputs": [
    {
     "name": "stdout",
     "output_type": "stream",
     "text": [
      "Optimization terminated successfully.\n",
      "         Current function value: 0.352672\n",
      "         Iterations 7\n",
      "==================================Model Summary=========================================\n"
     ]
    },
    {
     "data": {
      "text/html": [
       "<table class=\"simpletable\">\n",
       "<caption>Logit Regression Results</caption>\n",
       "<tr>\n",
       "  <th>Dep. Variable:</th>       <td>LongWork2</td>    <th>  No. Observations:  </th>  <td>  2333</td>  \n",
       "</tr>\n",
       "<tr>\n",
       "  <th>Model:</th>                 <td>Logit</td>      <th>  Df Residuals:      </th>  <td>  2327</td>  \n",
       "</tr>\n",
       "<tr>\n",
       "  <th>Method:</th>                 <td>MLE</td>       <th>  Df Model:          </th>  <td>     5</td>  \n",
       "</tr>\n",
       "<tr>\n",
       "  <th>Date:</th>            <td>Tue, 05 Nov 2024</td> <th>  Pseudo R-squ.:     </th>  <td>0.04993</td> \n",
       "</tr>\n",
       "<tr>\n",
       "  <th>Time:</th>                <td>00:17:42</td>     <th>  Log-Likelihood:    </th> <td> -822.78</td> \n",
       "</tr>\n",
       "<tr>\n",
       "  <th>converged:</th>             <td>True</td>       <th>  LL-Null:           </th> <td> -866.03</td> \n",
       "</tr>\n",
       "<tr>\n",
       "  <th>Covariance Type:</th>     <td>nonrobust</td>    <th>  LLR p-value:       </th> <td>3.676e-17</td>\n",
       "</tr>\n",
       "</table>\n",
       "<table class=\"simpletable\">\n",
       "<tr>\n",
       "                         <td></td>                           <th>coef</th>     <th>std err</th>      <th>z</th>      <th>P>|z|</th>  <th>[0.025</th>    <th>0.975]</th>  \n",
       "</tr>\n",
       "<tr>\n",
       "  <th>Intercept</th>                                      <td>   -2.3523</td> <td>    0.249</td> <td>   -9.466</td> <td> 0.000</td> <td>   -2.839</td> <td>   -1.865</td>\n",
       "</tr>\n",
       "<tr>\n",
       "  <th>C(직장에서의복리후생제공여부, Treatment('제공하지않는다'))[T.제공한다]</th> <td>    0.8454</td> <td>    0.152</td> <td>    5.551</td> <td> 0.000</td> <td>    0.547</td> <td>    1.144</td>\n",
       "</tr>\n",
       "<tr>\n",
       "  <th>C(보험가입여부, Treatment('가입하지않음'))[T.가입했다]</th>         <td>    0.0320</td> <td>    0.145</td> <td>    0.220</td> <td> 0.826</td> <td>   -0.253</td> <td>    0.317</td>\n",
       "</tr>\n",
       "<tr>\n",
       "  <th>C(직장만족도, Treatment('그렇지않다'))[T.그렇다]</th>            <td>    0.9633</td> <td>    0.186</td> <td>    5.192</td> <td> 0.000</td> <td>    0.600</td> <td>    1.327</td>\n",
       "</tr>\n",
       "<tr>\n",
       "  <th>C(직장만족도, Treatment('그렇지않다'))[T.보통이다]</th>           <td>    0.1975</td> <td>    0.200</td> <td>    0.988</td> <td> 0.323</td> <td>   -0.194</td> <td>    0.589</td>\n",
       "</tr>\n",
       "<tr>\n",
       "  <th>주당근로시간</th>                                         <td>   -0.0099</td> <td>    0.006</td> <td>   -1.796</td> <td> 0.073</td> <td>   -0.021</td> <td>    0.001</td>\n",
       "</tr>\n",
       "</table>"
      ],
      "text/plain": [
       "<class 'statsmodels.iolib.summary.Summary'>\n",
       "\"\"\"\n",
       "                           Logit Regression Results                           \n",
       "==============================================================================\n",
       "Dep. Variable:              LongWork2   No. Observations:                 2333\n",
       "Model:                          Logit   Df Residuals:                     2327\n",
       "Method:                           MLE   Df Model:                            5\n",
       "Date:                Tue, 05 Nov 2024   Pseudo R-squ.:                 0.04993\n",
       "Time:                        00:17:42   Log-Likelihood:                -822.78\n",
       "converged:                       True   LL-Null:                       -866.03\n",
       "Covariance Type:            nonrobust   LLR p-value:                 3.676e-17\n",
       "==================================================================================================================\n",
       "                                                     coef    std err          z      P>|z|      [0.025      0.975]\n",
       "------------------------------------------------------------------------------------------------------------------\n",
       "Intercept                                         -2.3523      0.249     -9.466      0.000      -2.839      -1.865\n",
       "C(직장에서의복리후생제공여부, Treatment('제공하지않는다'))[T.제공한다]     0.8454      0.152      5.551      0.000       0.547       1.144\n",
       "C(보험가입여부, Treatment('가입하지않음'))[T.가입했다]             0.0320      0.145      0.220      0.826      -0.253       0.317\n",
       "C(직장만족도, Treatment('그렇지않다'))[T.그렇다]                0.9633      0.186      5.192      0.000       0.600       1.327\n",
       "C(직장만족도, Treatment('그렇지않다'))[T.보통이다]               0.1975      0.200      0.988      0.323      -0.194       0.589\n",
       "주당근로시간                                            -0.0099      0.006     -1.796      0.073      -0.021       0.001\n",
       "==================================================================================================================\n",
       "\"\"\""
      ]
     },
     "execution_count": 35,
     "metadata": {},
     "output_type": "execute_result"
    }
   ],
   "source": [
    "model_3 = sm.Logit.from_formula('''LongWork2 ~ \n",
    "    + C(직장에서의복리후생제공여부,Treatment('제공하지않는다'))\n",
    "    + C(보험가입여부,Treatment('가입하지않음'))\n",
    "    + 주당근로시간 + C(직장만족도,Treatment('그렇지않다'))''', 수도권).fit()\n",
    "print('==================================Model Summary=========================================')\n",
    "model_3.summary()"
   ]
  },
  {
   "cell_type": "code",
   "execution_count": 36,
   "metadata": {},
   "outputs": [
    {
     "name": "stdout",
     "output_type": "stream",
     "text": [
      "==================================Odds Ratio=========================================\n"
     ]
    },
    {
     "data": {
      "text/html": [
       "<div>\n",
       "<style scoped>\n",
       "    .dataframe tbody tr th:only-of-type {\n",
       "        vertical-align: middle;\n",
       "    }\n",
       "\n",
       "    .dataframe tbody tr th {\n",
       "        vertical-align: top;\n",
       "    }\n",
       "\n",
       "    .dataframe thead th {\n",
       "        text-align: right;\n",
       "    }\n",
       "</style>\n",
       "<table border=\"1\" class=\"dataframe\">\n",
       "  <thead>\n",
       "    <tr style=\"text-align: right;\">\n",
       "      <th></th>\n",
       "      <th>OR</th>\n",
       "      <th>Lower CI</th>\n",
       "      <th>Upper CI</th>\n",
       "    </tr>\n",
       "  </thead>\n",
       "  <tbody>\n",
       "    <tr>\n",
       "      <th>Intercept</th>\n",
       "      <td>0.09515</td>\n",
       "      <td>0.05846</td>\n",
       "      <td>0.15485</td>\n",
       "    </tr>\n",
       "    <tr>\n",
       "      <th>C(직장에서의복리후생제공여부, Treatment('제공하지않는다'))[T.제공한다]</th>\n",
       "      <td>2.32893</td>\n",
       "      <td>1.72787</td>\n",
       "      <td>3.13908</td>\n",
       "    </tr>\n",
       "    <tr>\n",
       "      <th>C(보험가입여부, Treatment('가입하지않음'))[T.가입했다]</th>\n",
       "      <td>1.03249</td>\n",
       "      <td>0.77633</td>\n",
       "      <td>1.37318</td>\n",
       "    </tr>\n",
       "    <tr>\n",
       "      <th>C(직장만족도, Treatment('그렇지않다'))[T.그렇다]</th>\n",
       "      <td>2.62036</td>\n",
       "      <td>1.82150</td>\n",
       "      <td>3.76956</td>\n",
       "    </tr>\n",
       "    <tr>\n",
       "      <th>C(직장만족도, Treatment('그렇지않다'))[T.보통이다]</th>\n",
       "      <td>1.21832</td>\n",
       "      <td>0.82334</td>\n",
       "      <td>1.80279</td>\n",
       "    </tr>\n",
       "    <tr>\n",
       "      <th>주당근로시간</th>\n",
       "      <td>0.99011</td>\n",
       "      <td>0.97942</td>\n",
       "      <td>1.00091</td>\n",
       "    </tr>\n",
       "  </tbody>\n",
       "</table>\n",
       "</div>"
      ],
      "text/plain": [
       "                                                    OR  Lower CI  Upper CI\n",
       "Intercept                                      0.09515   0.05846   0.15485\n",
       "C(직장에서의복리후생제공여부, Treatment('제공하지않는다'))[T.제공한다] 2.32893   1.72787   3.13908\n",
       "C(보험가입여부, Treatment('가입하지않음'))[T.가입했다]         1.03249   0.77633   1.37318\n",
       "C(직장만족도, Treatment('그렇지않다'))[T.그렇다]            2.62036   1.82150   3.76956\n",
       "C(직장만족도, Treatment('그렇지않다'))[T.보통이다]           1.21832   0.82334   1.80279\n",
       "주당근로시간                                         0.99011   0.97942   1.00091"
      ]
     },
     "execution_count": 36,
     "metadata": {},
     "output_type": "execute_result"
    }
   ],
   "source": [
    "print('==================================Odds Ratio=========================================')\n",
    "# 오즈비 계산(Confidence interval 포함)\n",
    "odds_ratios_3 = pd.DataFrame(\n",
    "    {\n",
    "        \"OR\": model_3.params,\n",
    "        \"Lower CI\": model_3.conf_int()[0],\n",
    "        \"Upper CI\": model_3.conf_int()[1],\n",
    "    }\n",
    ")\n",
    "odds_ratios_3 = np.exp(odds_ratios_3)\n",
    "odds_ratios_3"
   ]
  },
  {
   "cell_type": "code",
   "execution_count": 37,
   "metadata": {},
   "outputs": [
    {
     "data": {
      "image/png": "[encoded data removed]",
      "text/plain": [
       "<Figure size 1224x936 with 1 Axes>"
      ]
     },
     "metadata": {
      "needs_background": "light"
     },
     "output_type": "display_data"
    }
   ],
   "source": [
    "# 오즈비 순서대로 \n",
    "\n",
    "# Define the data\n",
    "data = [(var, odds_ratios_3.loc[var, \"OR\"], odds_ratios_3.loc[var, \"Lower CI\"], odds_ratios_3.loc[var, \"Upper CI\"]) for var in odds_ratios_3.index]\n",
    "\n",
    "# Sort the data by the odds ratio\n",
    "data = sorted(data, key=lambda x: x[1], reverse=True)\n",
    "\n",
    "# Set the figure size\n",
    "plt.figure(figsize=(17, 13))\n",
    "\n",
    "# Plot the data\n",
    "plt.errorbar([x[1] for x in data], range(len(data)), xerr=[x[1] - x[2] for x in data], fmt='s', color='black', \n",
    "             markersize=13, markerfacecolor='blue')\n",
    "\n",
    "# Add the vertical line\n",
    "plt.axvline(x=1, color='red', linestyle='--')\n",
    "\n",
    "# Add the labels and title\n",
    "plt.yticks(range(len(data)), [x[0] for x in data], fontsize=17)\n",
    "plt.xlabel('Odds Ratio', fontsize=15)\n",
    "plt.ylabel('Variable', fontsize=15)\n",
    "plt.title('Forest Plot of Odds Ratios(수도)', fontsize=15)\n",
    "\n",
    "# Show the plot\n",
    "plt.show()"
   ]
  },
  {
   "cell_type": "code",
   "execution_count": 38,
   "metadata": {},
   "outputs": [
    {
     "name": "stdout",
     "output_type": "stream",
     "text": [
      "Optimization terminated successfully.\n",
      "         Current function value: 0.363685\n",
      "         Iterations 6\n",
      "==================================Model Summary=========================================\n",
      "                           Logit Regression Results                           \n",
      "==============================================================================\n",
      "Dep. Variable:              LongWork2   No. Observations:                 2333\n",
      "Model:                          Logit   Df Residuals:                     2331\n",
      "Method:                           MLE   Df Model:                            1\n",
      "Date:                Tue, 05 Nov 2024   Pseudo R-squ.:                 0.02026\n",
      "Time:                        00:18:42   Log-Likelihood:                -848.48\n",
      "converged:                       True   LL-Null:                       -866.03\n",
      "Covariance Type:            nonrobust   LLR p-value:                 3.135e-09\n",
      "==================================================================================================================\n",
      "                                                     coef    std err          z      P>|z|      [0.025      0.975]\n",
      "------------------------------------------------------------------------------------------------------------------\n",
      "Intercept                                         -2.1709      0.075    -28.868      0.000      -2.318      -2.024\n",
      "C(직장에서의복리후생제공여부, Treatment('제공하지않는다'))[T.제공한다]     0.8768      0.142      6.179      0.000       0.599       1.155\n",
      "==================================================================================================================\n",
      "==================================Odds Ratio=========================================\n"
     ]
    },
    {
     "data": {
      "text/html": [
       "<div>\n",
       "<style scoped>\n",
       "    .dataframe tbody tr th:only-of-type {\n",
       "        vertical-align: middle;\n",
       "    }\n",
       "\n",
       "    .dataframe tbody tr th {\n",
       "        vertical-align: top;\n",
       "    }\n",
       "\n",
       "    .dataframe thead th {\n",
       "        text-align: right;\n",
       "    }\n",
       "</style>\n",
       "<table border=\"1\" class=\"dataframe\">\n",
       "  <thead>\n",
       "    <tr style=\"text-align: right;\">\n",
       "      <th></th>\n",
       "      <th>OR</th>\n",
       "      <th>Lower CI</th>\n",
       "      <th>Upper CI</th>\n",
       "    </tr>\n",
       "  </thead>\n",
       "  <tbody>\n",
       "    <tr>\n",
       "      <th>Intercept</th>\n",
       "      <td>0.11407</td>\n",
       "      <td>0.09844</td>\n",
       "      <td>0.13219</td>\n",
       "    </tr>\n",
       "    <tr>\n",
       "      <th>C(직장에서의복리후생제공여부, Treatment('제공하지않는다'))[T.제공한다]</th>\n",
       "      <td>2.40328</td>\n",
       "      <td>1.81980</td>\n",
       "      <td>3.17384</td>\n",
       "    </tr>\n",
       "  </tbody>\n",
       "</table>\n",
       "</div>"
      ],
      "text/plain": [
       "                                                    OR  Lower CI  Upper CI\n",
       "Intercept                                      0.11407   0.09844   0.13219\n",
       "C(직장에서의복리후생제공여부, Treatment('제공하지않는다'))[T.제공한다] 2.40328   1.81980   3.17384"
      ]
     },
     "execution_count": 38,
     "metadata": {},
     "output_type": "execute_result"
    }
   ],
   "source": [
    "model_3 = sm.Logit.from_formula('''LongWork2 ~ \n",
    "    + C(직장에서의복리후생제공여부,Treatment('제공하지않는다'))\n",
    "    ''', 수도권).fit()\n",
    "print('==================================Model Summary=========================================')\n",
    "print(model_3.summary())\n",
    "\n",
    "print('==================================Odds Ratio=========================================')\n",
    "# 오즈비 계산(Confidence interval 포함)\n",
    "odds_ratios_3 = pd.DataFrame(\n",
    "    {\n",
    "        \"OR\": model_3.params,\n",
    "        \"Lower CI\": model_3.conf_int()[0],\n",
    "        \"Upper CI\": model_3.conf_int()[1],\n",
    "    }\n",
    ")\n",
    "odds_ratios_3 = np.exp(odds_ratios_3)\n",
    "odds_ratios_3"
   ]
  },
  {
   "cell_type": "code",
   "execution_count": 39,
   "metadata": {},
   "outputs": [
    {
     "name": "stdout",
     "output_type": "stream",
     "text": [
      "Optimization terminated successfully.\n",
      "         Current function value: 0.371205\n",
      "         Iterations 6\n",
      "==================================Model Summary=========================================\n",
      "                           Logit Regression Results                           \n",
      "==============================================================================\n",
      "Dep. Variable:              LongWork2   No. Observations:                 2333\n",
      "Model:                          Logit   Df Residuals:                     2331\n",
      "Method:                           MLE   Df Model:                            1\n",
      "Date:                Tue, 05 Nov 2024   Pseudo R-squ.:               4.940e-06\n",
      "Time:                        00:19:02   Log-Likelihood:                -866.02\n",
      "converged:                       True   LL-Null:                       -866.03\n",
      "Covariance Type:            nonrobust   LLR p-value:                    0.9263\n",
      "==========================================================================================================\n",
      "                                             coef    std err          z      P>|z|      [0.025      0.975]\n",
      "----------------------------------------------------------------------------------------------------------\n",
      "Intercept                                 -1.9788      0.096    -20.653      0.000      -2.167      -1.791\n",
      "C(보험가입여부, Treatment('가입하지않음'))[T.가입했다]     0.0118      0.128      0.092      0.926      -0.238       0.262\n",
      "==========================================================================================================\n",
      "==================================Odds Ratio=========================================\n"
     ]
    },
    {
     "data": {
      "text/html": [
       "<div>\n",
       "<style scoped>\n",
       "    .dataframe tbody tr th:only-of-type {\n",
       "        vertical-align: middle;\n",
       "    }\n",
       "\n",
       "    .dataframe tbody tr th {\n",
       "        vertical-align: top;\n",
       "    }\n",
       "\n",
       "    .dataframe thead th {\n",
       "        text-align: right;\n",
       "    }\n",
       "</style>\n",
       "<table border=\"1\" class=\"dataframe\">\n",
       "  <thead>\n",
       "    <tr style=\"text-align: right;\">\n",
       "      <th></th>\n",
       "      <th>OR</th>\n",
       "      <th>Lower CI</th>\n",
       "      <th>Upper CI</th>\n",
       "    </tr>\n",
       "  </thead>\n",
       "  <tbody>\n",
       "    <tr>\n",
       "      <th>Intercept</th>\n",
       "      <td>0.13824</td>\n",
       "      <td>0.11457</td>\n",
       "      <td>0.16679</td>\n",
       "    </tr>\n",
       "    <tr>\n",
       "      <th>C(보험가입여부, Treatment('가입하지않음'))[T.가입했다]</th>\n",
       "      <td>1.01186</td>\n",
       "      <td>0.78810</td>\n",
       "      <td>1.29915</td>\n",
       "    </tr>\n",
       "  </tbody>\n",
       "</table>\n",
       "</div>"
      ],
      "text/plain": [
       "                                            OR  Lower CI  Upper CI\n",
       "Intercept                              0.13824   0.11457   0.16679\n",
       "C(보험가입여부, Treatment('가입하지않음'))[T.가입했다] 1.01186   0.78810   1.29915"
      ]
     },
     "execution_count": 39,
     "metadata": {},
     "output_type": "execute_result"
    }
   ],
   "source": [
    "model_3 = sm.Logit.from_formula('''LongWork2 ~ \n",
    "    C(보험가입여부,Treatment('가입하지않음'))\n",
    "    ''', 수도권).fit()\n",
    "print('==================================Model Summary=========================================')\n",
    "print(model_3.summary())\n",
    "\n",
    "print('==================================Odds Ratio=========================================')\n",
    "# 오즈비 계산(Confidence interval 포함)\n",
    "odds_ratios_3 = pd.DataFrame(\n",
    "    {\n",
    "        \"OR\": model_3.params,\n",
    "        \"Lower CI\": model_3.conf_int()[0],\n",
    "        \"Upper CI\": model_3.conf_int()[1],\n",
    "    }\n",
    ")\n",
    "odds_ratios_3 = np.exp(odds_ratios_3)\n",
    "odds_ratios_3"
   ]
  },
  {
   "cell_type": "code",
   "execution_count": 40,
   "metadata": {},
   "outputs": [
    {
     "name": "stdout",
     "output_type": "stream",
     "text": [
      "Optimization terminated successfully.\n",
      "         Current function value: 0.370399\n",
      "         Iterations 6\n",
      "==================================Model Summary=========================================\n",
      "                           Logit Regression Results                           \n",
      "==============================================================================\n",
      "Dep. Variable:              LongWork2   No. Observations:                 2333\n",
      "Model:                          Logit   Df Residuals:                     2331\n",
      "Method:                           MLE   Df Model:                            1\n",
      "Date:                Tue, 05 Nov 2024   Pseudo R-squ.:                0.002176\n",
      "Time:                        00:19:11   Log-Likelihood:                -864.14\n",
      "converged:                       True   LL-Null:                       -866.03\n",
      "Covariance Type:            nonrobust   LLR p-value:                   0.05220\n",
      "==============================================================================\n",
      "                 coef    std err          z      P>|z|      [0.025      0.975]\n",
      "------------------------------------------------------------------------------\n",
      "Intercept     -1.6529      0.172     -9.607      0.000      -1.990      -1.316\n",
      "주당근로시간        -0.0094      0.005     -1.960      0.050      -0.019   -1.99e-06\n",
      "==============================================================================\n",
      "==================================Odds Ratio=========================================\n"
     ]
    },
    {
     "data": {
      "text/html": [
       "<div>\n",
       "<style scoped>\n",
       "    .dataframe tbody tr th:only-of-type {\n",
       "        vertical-align: middle;\n",
       "    }\n",
       "\n",
       "    .dataframe tbody tr th {\n",
       "        vertical-align: top;\n",
       "    }\n",
       "\n",
       "    .dataframe thead th {\n",
       "        text-align: right;\n",
       "    }\n",
       "</style>\n",
       "<table border=\"1\" class=\"dataframe\">\n",
       "  <thead>\n",
       "    <tr style=\"text-align: right;\">\n",
       "      <th></th>\n",
       "      <th>OR</th>\n",
       "      <th>Lower CI</th>\n",
       "      <th>Upper CI</th>\n",
       "    </tr>\n",
       "  </thead>\n",
       "  <tbody>\n",
       "    <tr>\n",
       "      <th>Intercept</th>\n",
       "      <td>0.19149</td>\n",
       "      <td>0.13668</td>\n",
       "      <td>0.26829</td>\n",
       "    </tr>\n",
       "    <tr>\n",
       "      <th>주당근로시간</th>\n",
       "      <td>0.99067</td>\n",
       "      <td>0.98143</td>\n",
       "      <td>1.00000</td>\n",
       "    </tr>\n",
       "  </tbody>\n",
       "</table>\n",
       "</div>"
      ],
      "text/plain": [
       "               OR  Lower CI  Upper CI\n",
       "Intercept 0.19149   0.13668   0.26829\n",
       "주당근로시간    0.99067   0.98143   1.00000"
      ]
     },
     "execution_count": 40,
     "metadata": {},
     "output_type": "execute_result"
    }
   ],
   "source": [
    "model_3 = sm.Logit.from_formula('''LongWork2 ~ \n",
    "   주당근로시간''', 수도권).fit()\n",
    "print('==================================Model Summary=========================================')\n",
    "print(model_3.summary())\n",
    "\n",
    "print('==================================Odds Ratio=========================================')\n",
    "# 오즈비 계산(Confidence interval 포함)\n",
    "odds_ratios_3 = pd.DataFrame(\n",
    "    {\n",
    "        \"OR\": model_3.params,\n",
    "        \"Lower CI\": model_3.conf_int()[0],\n",
    "        \"Upper CI\": model_3.conf_int()[1],\n",
    "    }\n",
    ")\n",
    "odds_ratios_3 = np.exp(odds_ratios_3)\n",
    "odds_ratios_3"
   ]
  },
  {
   "cell_type": "code",
   "execution_count": 41,
   "metadata": {
    "scrolled": true
   },
   "outputs": [
    {
     "name": "stdout",
     "output_type": "stream",
     "text": [
      "Optimization terminated successfully.\n",
      "         Current function value: 0.359317\n",
      "         Iterations 6\n",
      "==================================Model Summary=========================================\n",
      "                           Logit Regression Results                           \n",
      "==============================================================================\n",
      "Dep. Variable:              LongWork2   No. Observations:                 2333\n",
      "Model:                          Logit   Df Residuals:                     2330\n",
      "Method:                           MLE   Df Model:                            2\n",
      "Date:                Tue, 05 Nov 2024   Pseudo R-squ.:                 0.03203\n",
      "Time:                        00:19:28   Log-Likelihood:                -838.29\n",
      "converged:                       True   LL-Null:                       -866.03\n",
      "Covariance Type:            nonrobust   LLR p-value:                 8.976e-13\n",
      "========================================================================================================\n",
      "                                           coef    std err          z      P>|z|      [0.025      0.975]\n",
      "--------------------------------------------------------------------------------------------------------\n",
      "Intercept                               -2.5523      0.158    -16.121      0.000      -2.863      -2.242\n",
      "C(직장만족도, Treatment('그렇지않다'))[T.그렇다]      1.0869      0.180      6.023      0.000       0.733       1.441\n",
      "C(직장만족도, Treatment('그렇지않다'))[T.보통이다]     0.2421      0.198      1.223      0.221      -0.146       0.630\n",
      "========================================================================================================\n",
      "==================================Odds Ratio=========================================\n"
     ]
    },
    {
     "data": {
      "text/html": [
       "<div>\n",
       "<style scoped>\n",
       "    .dataframe tbody tr th:only-of-type {\n",
       "        vertical-align: middle;\n",
       "    }\n",
       "\n",
       "    .dataframe tbody tr th {\n",
       "        vertical-align: top;\n",
       "    }\n",
       "\n",
       "    .dataframe thead th {\n",
       "        text-align: right;\n",
       "    }\n",
       "</style>\n",
       "<table border=\"1\" class=\"dataframe\">\n",
       "  <thead>\n",
       "    <tr style=\"text-align: right;\">\n",
       "      <th></th>\n",
       "      <th>OR</th>\n",
       "      <th>Lower CI</th>\n",
       "      <th>Upper CI</th>\n",
       "    </tr>\n",
       "  </thead>\n",
       "  <tbody>\n",
       "    <tr>\n",
       "      <th>Intercept</th>\n",
       "      <td>0.07790</td>\n",
       "      <td>0.05712</td>\n",
       "      <td>0.10624</td>\n",
       "    </tr>\n",
       "    <tr>\n",
       "      <th>C(직장만족도, Treatment('그렇지않다'))[T.그렇다]</th>\n",
       "      <td>2.96521</td>\n",
       "      <td>2.08176</td>\n",
       "      <td>4.22359</td>\n",
       "    </tr>\n",
       "    <tr>\n",
       "      <th>C(직장만족도, Treatment('그렇지않다'))[T.보통이다]</th>\n",
       "      <td>1.27392</td>\n",
       "      <td>0.86437</td>\n",
       "      <td>1.87753</td>\n",
       "    </tr>\n",
       "  </tbody>\n",
       "</table>\n",
       "</div>"
      ],
      "text/plain": [
       "                                          OR  Lower CI  Upper CI\n",
       "Intercept                            0.07790   0.05712   0.10624\n",
       "C(직장만족도, Treatment('그렇지않다'))[T.그렇다]  2.96521   2.08176   4.22359\n",
       "C(직장만족도, Treatment('그렇지않다'))[T.보통이다] 1.27392   0.86437   1.87753"
      ]
     },
     "execution_count": 41,
     "metadata": {},
     "output_type": "execute_result"
    }
   ],
   "source": [
    "model_3 = sm.Logit.from_formula('''LongWork2 ~ \n",
    "    C(직장만족도,Treatment('그렇지않다'))''', 수도권).fit()\n",
    "print('==================================Model Summary=========================================')\n",
    "print(model_3.summary())\n",
    "\n",
    "print('==================================Odds Ratio=========================================')\n",
    "# 오즈비 계산(Confidence interval 포함)\n",
    "odds_ratios_3 = pd.DataFrame(\n",
    "    {\n",
    "        \"OR\": model_3.params,\n",
    "        \"Lower CI\": model_3.conf_int()[0],\n",
    "        \"Upper CI\": model_3.conf_int()[1],\n",
    "    }\n",
    ")\n",
    "odds_ratios_3 = np.exp(odds_ratios_3)\n",
    "odds_ratios_3"
   ]
  },
  {
   "cell_type": "code",
   "execution_count": null,
   "metadata": {},
   "outputs": [],
   "source": []
  },
  {
   "cell_type": "code",
   "execution_count": null,
   "metadata": {},
   "outputs": [],
   "source": []
  },
  {
   "cell_type": "code",
   "execution_count": null,
   "metadata": {},
   "outputs": [],
   "source": []
  }
 ],
 "metadata": {
  "kernelspec": {
   "display_name": "Python 3 (ipykernel)",
   "language": "python",
   "name": "python3"
  },
  "language_info": {
   "codemirror_mode": {
    "name": "ipython",
    "version": 3
   },
   "file_extension": ".py",
   "mimetype": "text/x-python",
   "name": "python",
   "nbconvert_exporter": "python",
   "pygments_lexer": "ipython3",
   "version": "3.8.13"
  }
 },
 "nbformat": 4,
 "nbformat_minor": 2
}
