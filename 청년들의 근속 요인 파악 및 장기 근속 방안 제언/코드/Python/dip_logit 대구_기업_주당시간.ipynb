{
 "cells": [
  {
   "cell_type": "markdown",
   "metadata": {},
   "source": [
    "#### packages"
   ]
  },
  {
   "cell_type": "code",
   "execution_count": 1,
   "metadata": {},
   "outputs": [],
   "source": [
    "import pandas as pd\n",
    "import numpy as np\n",
    "import statsmodels.api as sm\n",
    "import sklearn\n",
    "import scipy\n",
    "import matplotlib.pyplot as plt\n",
    "import forestplot as fp"
   ]
  },
  {
   "cell_type": "code",
   "execution_count": 2,
   "metadata": {},
   "outputs": [],
   "source": [
    "pd.options.display.float_format = '{:.5f}'.format"
   ]
  },
  {
   "cell_type": "code",
   "execution_count": 3,
   "metadata": {},
   "outputs": [],
   "source": [
    "from matplotlib import font_manager, rc\n",
    "rc('font', family='AppleGothic')\n",
    "plt.rcParams['axes.unicode_minus'] = False"
   ]
  },
  {
   "cell_type": "markdown",
   "metadata": {},
   "source": [
    "##### Data"
   ]
  },
  {
   "cell_type": "code",
   "execution_count": 4,
   "metadata": {},
   "outputs": [
    {
     "data": {
      "text/plain": [
       "pid              0\n",
       "majorcat         0\n",
       "province         0\n",
       "area             0\n",
       "sex              0\n",
       "                ..\n",
       "주당근로시간           0\n",
       "주당근로시간_binary    0\n",
       "직장에서의복리후생제공여부    0\n",
       "보험가입여부           0\n",
       "직장만족도            0\n",
       "Length: 141, dtype: int64"
      ]
     },
     "execution_count": 4,
     "metadata": {},
     "output_type": "execute_result"
    }
   ],
   "source": [
    "df = pd.read_csv('/Users/idogeon/Desktop/포트폴리오/DIP/데이터/re_0826.csv', encoding='cp949')\n",
    "df.isnull().sum()"
   ]
  },
  {
   "cell_type": "code",
   "execution_count": 5,
   "metadata": {},
   "outputs": [],
   "source": [
    "df_copy = df.copy()"
   ]
  },
  {
   "cell_type": "code",
   "execution_count": 6,
   "metadata": {},
   "outputs": [
    {
     "name": "stdout",
     "output_type": "stream",
     "text": [
      "Optimization terminated successfully.\n",
      "         Current function value: 0.440672\n",
      "         Iterations 6\n",
      "==================================Model Summary=========================================\n"
     ]
    },
    {
     "data": {
      "text/html": [
       "<table class=\"simpletable\">\n",
       "<caption>Logit Regression Results</caption>\n",
       "<tr>\n",
       "  <th>Dep. Variable:</th>       <td>LongWork2</td>    <th>  No. Observations:  </th>  <td>   284</td> \n",
       "</tr>\n",
       "<tr>\n",
       "  <th>Model:</th>                 <td>Logit</td>      <th>  Df Residuals:      </th>  <td>   281</td> \n",
       "</tr>\n",
       "<tr>\n",
       "  <th>Method:</th>                 <td>MLE</td>       <th>  Df Model:          </th>  <td>     2</td> \n",
       "</tr>\n",
       "<tr>\n",
       "  <th>Date:</th>            <td>Mon, 04 Nov 2024</td> <th>  Pseudo R-squ.:     </th>  <td>0.01782</td>\n",
       "</tr>\n",
       "<tr>\n",
       "  <th>Time:</th>                <td>22:59:43</td>     <th>  Log-Likelihood:    </th> <td> -125.15</td>\n",
       "</tr>\n",
       "<tr>\n",
       "  <th>converged:</th>             <td>True</td>       <th>  LL-Null:           </th> <td> -127.42</td>\n",
       "</tr>\n",
       "<tr>\n",
       "  <th>Covariance Type:</th>     <td>nonrobust</td>    <th>  LLR p-value:       </th>  <td>0.1032</td> \n",
       "</tr>\n",
       "</table>\n",
       "<table class=\"simpletable\">\n",
       "<tr>\n",
       "                         <td></td>                           <th>coef</th>     <th>std err</th>      <th>z</th>      <th>P>|z|</th>  <th>[0.025</th>    <th>0.975]</th>  \n",
       "</tr>\n",
       "<tr>\n",
       "  <th>Intercept</th>                                      <td>   -1.8578</td> <td>    0.239</td> <td>   -7.763</td> <td> 0.000</td> <td>   -2.327</td> <td>   -1.389</td>\n",
       "</tr>\n",
       "<tr>\n",
       "  <th>C(직장에서의복리후생제공여부, Treatment('제공하지않는다'))[T.제공한다]</th> <td>    0.7541</td> <td>    0.404</td> <td>    1.868</td> <td> 0.062</td> <td>   -0.037</td> <td>    1.545</td>\n",
       "</tr>\n",
       "<tr>\n",
       "  <th>C(보험가입여부, Treatment('가입하지않음'))[T.가입했다]</th>         <td>    0.1939</td> <td>    0.338</td> <td>    0.574</td> <td> 0.566</td> <td>   -0.468</td> <td>    0.856</td>\n",
       "</tr>\n",
       "</table>"
      ],
      "text/plain": [
       "<class 'statsmodels.iolib.summary.Summary'>\n",
       "\"\"\"\n",
       "                           Logit Regression Results                           \n",
       "==============================================================================\n",
       "Dep. Variable:              LongWork2   No. Observations:                  284\n",
       "Model:                          Logit   Df Residuals:                      281\n",
       "Method:                           MLE   Df Model:                            2\n",
       "Date:                Mon, 04 Nov 2024   Pseudo R-squ.:                 0.01782\n",
       "Time:                        22:59:43   Log-Likelihood:                -125.15\n",
       "converged:                       True   LL-Null:                       -127.42\n",
       "Covariance Type:            nonrobust   LLR p-value:                    0.1032\n",
       "==================================================================================================================\n",
       "                                                     coef    std err          z      P>|z|      [0.025      0.975]\n",
       "------------------------------------------------------------------------------------------------------------------\n",
       "Intercept                                         -1.8578      0.239     -7.763      0.000      -2.327      -1.389\n",
       "C(직장에서의복리후생제공여부, Treatment('제공하지않는다'))[T.제공한다]     0.7541      0.404      1.868      0.062      -0.037       1.545\n",
       "C(보험가입여부, Treatment('가입하지않음'))[T.가입했다]             0.1939      0.338      0.574      0.566      -0.468       0.856\n",
       "==================================================================================================================\n",
       "\"\"\""
      ]
     },
     "execution_count": 6,
     "metadata": {},
     "output_type": "execute_result"
    }
   ],
   "source": [
    "daegu = df_copy[df_copy['사업체지역']=='대구'].copy()\n",
    "\n",
    "model_1 = sm.Logit.from_formula('''LongWork2 ~ C(직장에서의복리후생제공여부,Treatment('제공하지않는다'))\n",
    "    + C(보험가입여부,Treatment('가입하지않음'))''', daegu).fit()\n",
    "print('==================================Model Summary=========================================')\n",
    "model_1.summary()"
   ]
  },
  {
   "cell_type": "code",
   "execution_count": 7,
   "metadata": {},
   "outputs": [
    {
     "name": "stdout",
     "output_type": "stream",
     "text": [
      "==================================Odds Ratio=========================================\n"
     ]
    },
    {
     "data": {
      "text/html": [
       "<div>\n",
       "<style scoped>\n",
       "    .dataframe tbody tr th:only-of-type {\n",
       "        vertical-align: middle;\n",
       "    }\n",
       "\n",
       "    .dataframe tbody tr th {\n",
       "        vertical-align: top;\n",
       "    }\n",
       "\n",
       "    .dataframe thead th {\n",
       "        text-align: right;\n",
       "    }\n",
       "</style>\n",
       "<table border=\"1\" class=\"dataframe\">\n",
       "  <thead>\n",
       "    <tr style=\"text-align: right;\">\n",
       "      <th></th>\n",
       "      <th>OR</th>\n",
       "      <th>Lower CI</th>\n",
       "      <th>Upper CI</th>\n",
       "    </tr>\n",
       "  </thead>\n",
       "  <tbody>\n",
       "    <tr>\n",
       "      <th>Intercept</th>\n",
       "      <td>0.15601</td>\n",
       "      <td>0.09760</td>\n",
       "      <td>0.24938</td>\n",
       "    </tr>\n",
       "    <tr>\n",
       "      <th>C(직장에서의복리후생제공여부, Treatment('제공하지않는다'))[T.제공한다]</th>\n",
       "      <td>2.12565</td>\n",
       "      <td>0.96341</td>\n",
       "      <td>4.68999</td>\n",
       "    </tr>\n",
       "    <tr>\n",
       "      <th>C(보험가입여부, Treatment('가입하지않음'))[T.가입했다]</th>\n",
       "      <td>1.21393</td>\n",
       "      <td>0.62629</td>\n",
       "      <td>2.35297</td>\n",
       "    </tr>\n",
       "  </tbody>\n",
       "</table>\n",
       "</div>"
      ],
      "text/plain": [
       "                                                    OR  Lower CI  Upper CI\n",
       "Intercept                                      0.15601   0.09760   0.24938\n",
       "C(직장에서의복리후생제공여부, Treatment('제공하지않는다'))[T.제공한다] 2.12565   0.96341   4.68999\n",
       "C(보험가입여부, Treatment('가입하지않음'))[T.가입했다]         1.21393   0.62629   2.35297"
      ]
     },
     "execution_count": 7,
     "metadata": {},
     "output_type": "execute_result"
    }
   ],
   "source": [
    "print('==================================Odds Ratio=========================================')\n",
    "# 오즈비 계산(Confidence interval 포함)\n",
    "odds_ratios_1 = pd.DataFrame(\n",
    "    {\n",
    "        \"OR\": model_1.params,\n",
    "        \"Lower CI\": model_1.conf_int()[0],\n",
    "        \"Upper CI\": model_1.conf_int()[1],\n",
    "    }\n",
    ")\n",
    "odds_ratios_1 = np.exp(odds_ratios_1)\n",
    "odds_ratios_1"
   ]
  },
  {
   "cell_type": "code",
   "execution_count": 8,
   "metadata": {},
   "outputs": [
    {
     "name": "stdout",
     "output_type": "stream",
     "text": [
      "Optimization terminated successfully.\n",
      "         Current function value: 0.440554\n",
      "         Iterations 6\n",
      "==================================Model Summary=========================================\n"
     ]
    },
    {
     "data": {
      "text/html": [
       "<table class=\"simpletable\">\n",
       "<caption>Logit Regression Results</caption>\n",
       "<tr>\n",
       "  <th>Dep. Variable:</th>       <td>LongWork2</td>    <th>  No. Observations:  </th>  <td>   284</td> \n",
       "</tr>\n",
       "<tr>\n",
       "  <th>Model:</th>                 <td>Logit</td>      <th>  Df Residuals:      </th>  <td>   280</td> \n",
       "</tr>\n",
       "<tr>\n",
       "  <th>Method:</th>                 <td>MLE</td>       <th>  Df Model:          </th>  <td>     3</td> \n",
       "</tr>\n",
       "<tr>\n",
       "  <th>Date:</th>            <td>Mon, 04 Nov 2024</td> <th>  Pseudo R-squ.:     </th>  <td>0.01808</td>\n",
       "</tr>\n",
       "<tr>\n",
       "  <th>Time:</th>                <td>22:59:51</td>     <th>  Log-Likelihood:    </th> <td> -125.12</td>\n",
       "</tr>\n",
       "<tr>\n",
       "  <th>converged:</th>             <td>True</td>       <th>  LL-Null:           </th> <td> -127.42</td>\n",
       "</tr>\n",
       "<tr>\n",
       "  <th>Covariance Type:</th>     <td>nonrobust</td>    <th>  LLR p-value:       </th>  <td>0.2028</td> \n",
       "</tr>\n",
       "</table>\n",
       "<table class=\"simpletable\">\n",
       "<tr>\n",
       "                         <td></td>                           <th>coef</th>     <th>std err</th>      <th>z</th>      <th>P>|z|</th>  <th>[0.025</th>    <th>0.975]</th>  \n",
       "</tr>\n",
       "<tr>\n",
       "  <th>Intercept</th>                                      <td>   -1.9622</td> <td>    0.473</td> <td>   -4.152</td> <td> 0.000</td> <td>   -2.888</td> <td>   -1.036</td>\n",
       "</tr>\n",
       "<tr>\n",
       "  <th>C(직장에서의복리후생제공여부, Treatment('제공하지않는다'))[T.제공한다]</th> <td>    0.7457</td> <td>    0.405</td> <td>    1.842</td> <td> 0.065</td> <td>   -0.048</td> <td>    1.539</td>\n",
       "</tr>\n",
       "<tr>\n",
       "  <th>C(보험가입여부, Treatment('가입하지않음'))[T.가입했다]</th>         <td>    0.1486</td> <td>    0.379</td> <td>    0.392</td> <td> 0.695</td> <td>   -0.594</td> <td>    0.891</td>\n",
       "</tr>\n",
       "<tr>\n",
       "  <th>주당근로시간</th>                                         <td>    0.0038</td> <td>    0.015</td> <td>    0.259</td> <td> 0.796</td> <td>   -0.025</td> <td>    0.032</td>\n",
       "</tr>\n",
       "</table>"
      ],
      "text/plain": [
       "<class 'statsmodels.iolib.summary.Summary'>\n",
       "\"\"\"\n",
       "                           Logit Regression Results                           \n",
       "==============================================================================\n",
       "Dep. Variable:              LongWork2   No. Observations:                  284\n",
       "Model:                          Logit   Df Residuals:                      280\n",
       "Method:                           MLE   Df Model:                            3\n",
       "Date:                Mon, 04 Nov 2024   Pseudo R-squ.:                 0.01808\n",
       "Time:                        22:59:51   Log-Likelihood:                -125.12\n",
       "converged:                       True   LL-Null:                       -127.42\n",
       "Covariance Type:            nonrobust   LLR p-value:                    0.2028\n",
       "==================================================================================================================\n",
       "                                                     coef    std err          z      P>|z|      [0.025      0.975]\n",
       "------------------------------------------------------------------------------------------------------------------\n",
       "Intercept                                         -1.9622      0.473     -4.152      0.000      -2.888      -1.036\n",
       "C(직장에서의복리후생제공여부, Treatment('제공하지않는다'))[T.제공한다]     0.7457      0.405      1.842      0.065      -0.048       1.539\n",
       "C(보험가입여부, Treatment('가입하지않음'))[T.가입했다]             0.1486      0.379      0.392      0.695      -0.594       0.891\n",
       "주당근로시간                                             0.0038      0.015      0.259      0.796      -0.025       0.032\n",
       "==================================================================================================================\n",
       "\"\"\""
      ]
     },
     "execution_count": 8,
     "metadata": {},
     "output_type": "execute_result"
    }
   ],
   "source": [
    "model_2 = sm.Logit.from_formula('''LongWork2 ~ + C(직장에서의복리후생제공여부,Treatment('제공하지않는다'))\n",
    "    +  C(보험가입여부,Treatment('가입하지않음')) + 주당근로시간''', daegu).fit()\n",
    "print('==================================Model Summary=========================================')\n",
    "model_2.summary()"
   ]
  },
  {
   "cell_type": "code",
   "execution_count": 9,
   "metadata": {},
   "outputs": [
    {
     "name": "stdout",
     "output_type": "stream",
     "text": [
      "==================================Odds Ratio=========================================\n"
     ]
    },
    {
     "data": {
      "text/html": [
       "<div>\n",
       "<style scoped>\n",
       "    .dataframe tbody tr th:only-of-type {\n",
       "        vertical-align: middle;\n",
       "    }\n",
       "\n",
       "    .dataframe tbody tr th {\n",
       "        vertical-align: top;\n",
       "    }\n",
       "\n",
       "    .dataframe thead th {\n",
       "        text-align: right;\n",
       "    }\n",
       "</style>\n",
       "<table border=\"1\" class=\"dataframe\">\n",
       "  <thead>\n",
       "    <tr style=\"text-align: right;\">\n",
       "      <th></th>\n",
       "      <th>OR</th>\n",
       "      <th>Lower CI</th>\n",
       "      <th>Upper CI</th>\n",
       "    </tr>\n",
       "  </thead>\n",
       "  <tbody>\n",
       "    <tr>\n",
       "      <th>Intercept</th>\n",
       "      <td>0.14055</td>\n",
       "      <td>0.05567</td>\n",
       "      <td>0.35487</td>\n",
       "    </tr>\n",
       "    <tr>\n",
       "      <th>C(직장에서의복리후생제공여부, Treatment('제공하지않는다'))[T.제공한다]</th>\n",
       "      <td>2.10786</td>\n",
       "      <td>0.95347</td>\n",
       "      <td>4.65994</td>\n",
       "    </tr>\n",
       "    <tr>\n",
       "      <th>C(보험가입여부, Treatment('가입하지않음'))[T.가입했다]</th>\n",
       "      <td>1.16026</td>\n",
       "      <td>0.55205</td>\n",
       "      <td>2.43857</td>\n",
       "    </tr>\n",
       "    <tr>\n",
       "      <th>주당근로시간</th>\n",
       "      <td>1.00379</td>\n",
       "      <td>0.97543</td>\n",
       "      <td>1.03298</td>\n",
       "    </tr>\n",
       "  </tbody>\n",
       "</table>\n",
       "</div>"
      ],
      "text/plain": [
       "                                                    OR  Lower CI  Upper CI\n",
       "Intercept                                      0.14055   0.05567   0.35487\n",
       "C(직장에서의복리후생제공여부, Treatment('제공하지않는다'))[T.제공한다] 2.10786   0.95347   4.65994\n",
       "C(보험가입여부, Treatment('가입하지않음'))[T.가입했다]         1.16026   0.55205   2.43857\n",
       "주당근로시간                                         1.00379   0.97543   1.03298"
      ]
     },
     "execution_count": 9,
     "metadata": {},
     "output_type": "execute_result"
    }
   ],
   "source": [
    "print('==================================Odds Ratio=========================================')\n",
    "# 오즈비 계산(Confidence interval 포함)\n",
    "odds_ratios_2 = pd.DataFrame(\n",
    "    {\n",
    "        \"OR\": model_2.params,\n",
    "        \"Lower CI\": model_2.conf_int()[0],\n",
    "        \"Upper CI\": model_2.conf_int()[1],\n",
    "    }\n",
    ")\n",
    "odds_ratios_2 = np.exp(odds_ratios_2)\n",
    "odds_ratios_2"
   ]
  },
  {
   "cell_type": "code",
   "execution_count": 10,
   "metadata": {},
   "outputs": [
    {
     "name": "stdout",
     "output_type": "stream",
     "text": [
      "Optimization terminated successfully.\n",
      "         Current function value: 0.410624\n",
      "         Iterations 7\n",
      "==================================Model Summary=========================================\n"
     ]
    },
    {
     "data": {
      "text/html": [
       "<table class=\"simpletable\">\n",
       "<caption>Logit Regression Results</caption>\n",
       "<tr>\n",
       "  <th>Dep. Variable:</th>       <td>LongWork2</td>    <th>  No. Observations:  </th>  <td>   284</td>  \n",
       "</tr>\n",
       "<tr>\n",
       "  <th>Model:</th>                 <td>Logit</td>      <th>  Df Residuals:      </th>  <td>   278</td>  \n",
       "</tr>\n",
       "<tr>\n",
       "  <th>Method:</th>                 <td>MLE</td>       <th>  Df Model:          </th>  <td>     5</td>  \n",
       "</tr>\n",
       "<tr>\n",
       "  <th>Date:</th>            <td>Mon, 04 Nov 2024</td> <th>  Pseudo R-squ.:     </th>  <td>0.08479</td> \n",
       "</tr>\n",
       "<tr>\n",
       "  <th>Time:</th>                <td>22:59:53</td>     <th>  Log-Likelihood:    </th> <td> -116.62</td> \n",
       "</tr>\n",
       "<tr>\n",
       "  <th>converged:</th>             <td>True</td>       <th>  LL-Null:           </th> <td> -127.42</td> \n",
       "</tr>\n",
       "<tr>\n",
       "  <th>Covariance Type:</th>     <td>nonrobust</td>    <th>  LLR p-value:       </th> <td>0.0006214</td>\n",
       "</tr>\n",
       "</table>\n",
       "<table class=\"simpletable\">\n",
       "<tr>\n",
       "                         <td></td>                           <th>coef</th>     <th>std err</th>      <th>z</th>      <th>P>|z|</th>  <th>[0.025</th>    <th>0.975]</th>  \n",
       "</tr>\n",
       "<tr>\n",
       "  <th>Intercept</th>                                      <td>   -3.7205</td> <td>    0.882</td> <td>   -4.219</td> <td> 0.000</td> <td>   -5.449</td> <td>   -1.992</td>\n",
       "</tr>\n",
       "<tr>\n",
       "  <th>C(직장에서의복리후생제공여부, Treatment('제공하지않는다'))[T.제공한다]</th> <td>    0.4160</td> <td>    0.424</td> <td>    0.982</td> <td> 0.326</td> <td>   -0.414</td> <td>    1.246</td>\n",
       "</tr>\n",
       "<tr>\n",
       "  <th>C(보험가입여부, Treatment('가입하지않음'))[T.가입했다]</th>         <td>    0.2130</td> <td>    0.396</td> <td>    0.538</td> <td> 0.590</td> <td>   -0.563</td> <td>    0.989</td>\n",
       "</tr>\n",
       "<tr>\n",
       "  <th>C(직장만족도, Treatment('그렇지않다'))[T.그렇다]</th>            <td>    2.2234</td> <td>    0.759</td> <td>    2.931</td> <td> 0.003</td> <td>    0.737</td> <td>    3.710</td>\n",
       "</tr>\n",
       "<tr>\n",
       "  <th>C(직장만족도, Treatment('그렇지않다'))[T.보통이다]</th>           <td>    1.2423</td> <td>    0.778</td> <td>    1.596</td> <td> 0.110</td> <td>   -0.283</td> <td>    2.768</td>\n",
       "</tr>\n",
       "<tr>\n",
       "  <th>주당근로시간</th>                                         <td>    0.0091</td> <td>    0.015</td> <td>    0.606</td> <td> 0.545</td> <td>   -0.020</td> <td>    0.039</td>\n",
       "</tr>\n",
       "</table>"
      ],
      "text/plain": [
       "<class 'statsmodels.iolib.summary.Summary'>\n",
       "\"\"\"\n",
       "                           Logit Regression Results                           \n",
       "==============================================================================\n",
       "Dep. Variable:              LongWork2   No. Observations:                  284\n",
       "Model:                          Logit   Df Residuals:                      278\n",
       "Method:                           MLE   Df Model:                            5\n",
       "Date:                Mon, 04 Nov 2024   Pseudo R-squ.:                 0.08479\n",
       "Time:                        22:59:53   Log-Likelihood:                -116.62\n",
       "converged:                       True   LL-Null:                       -127.42\n",
       "Covariance Type:            nonrobust   LLR p-value:                 0.0006214\n",
       "==================================================================================================================\n",
       "                                                     coef    std err          z      P>|z|      [0.025      0.975]\n",
       "------------------------------------------------------------------------------------------------------------------\n",
       "Intercept                                         -3.7205      0.882     -4.219      0.000      -5.449      -1.992\n",
       "C(직장에서의복리후생제공여부, Treatment('제공하지않는다'))[T.제공한다]     0.4160      0.424      0.982      0.326      -0.414       1.246\n",
       "C(보험가입여부, Treatment('가입하지않음'))[T.가입했다]             0.2130      0.396      0.538      0.590      -0.563       0.989\n",
       "C(직장만족도, Treatment('그렇지않다'))[T.그렇다]                2.2234      0.759      2.931      0.003       0.737       3.710\n",
       "C(직장만족도, Treatment('그렇지않다'))[T.보통이다]               1.2423      0.778      1.596      0.110      -0.283       2.768\n",
       "주당근로시간                                             0.0091      0.015      0.606      0.545      -0.020       0.039\n",
       "==================================================================================================================\n",
       "\"\"\""
      ]
     },
     "execution_count": 10,
     "metadata": {},
     "output_type": "execute_result"
    }
   ],
   "source": [
    "model_3 = sm.Logit.from_formula('''LongWork2 ~ \n",
    "    + C(직장에서의복리후생제공여부,Treatment('제공하지않는다'))\n",
    "    + C(보험가입여부,Treatment('가입하지않음'))\n",
    "    + 주당근로시간 + C(직장만족도,Treatment('그렇지않다'))''', daegu).fit()\n",
    "print('==================================Model Summary=========================================')\n",
    "model_3.summary()"
   ]
  },
  {
   "cell_type": "code",
   "execution_count": 11,
   "metadata": {},
   "outputs": [
    {
     "name": "stdout",
     "output_type": "stream",
     "text": [
      "==================================Odds Ratio=========================================\n"
     ]
    },
    {
     "data": {
      "text/html": [
       "<div>\n",
       "<style scoped>\n",
       "    .dataframe tbody tr th:only-of-type {\n",
       "        vertical-align: middle;\n",
       "    }\n",
       "\n",
       "    .dataframe tbody tr th {\n",
       "        vertical-align: top;\n",
       "    }\n",
       "\n",
       "    .dataframe thead th {\n",
       "        text-align: right;\n",
       "    }\n",
       "</style>\n",
       "<table border=\"1\" class=\"dataframe\">\n",
       "  <thead>\n",
       "    <tr style=\"text-align: right;\">\n",
       "      <th></th>\n",
       "      <th>OR</th>\n",
       "      <th>Lower CI</th>\n",
       "      <th>Upper CI</th>\n",
       "    </tr>\n",
       "  </thead>\n",
       "  <tbody>\n",
       "    <tr>\n",
       "      <th>Intercept</th>\n",
       "      <td>0.02422</td>\n",
       "      <td>0.00430</td>\n",
       "      <td>0.13641</td>\n",
       "    </tr>\n",
       "    <tr>\n",
       "      <th>C(직장에서의복리후생제공여부, Treatment('제공하지않는다'))[T.제공한다]</th>\n",
       "      <td>1.51594</td>\n",
       "      <td>0.66074</td>\n",
       "      <td>3.47803</td>\n",
       "    </tr>\n",
       "    <tr>\n",
       "      <th>C(보험가입여부, Treatment('가입하지않음'))[T.가입했다]</th>\n",
       "      <td>1.23741</td>\n",
       "      <td>0.56964</td>\n",
       "      <td>2.68798</td>\n",
       "    </tr>\n",
       "    <tr>\n",
       "      <th>C(직장만족도, Treatment('그렇지않다'))[T.그렇다]</th>\n",
       "      <td>9.23853</td>\n",
       "      <td>2.08864</td>\n",
       "      <td>40.86418</td>\n",
       "    </tr>\n",
       "    <tr>\n",
       "      <th>C(직장만족도, Treatment('그렇지않다'))[T.보통이다]</th>\n",
       "      <td>3.46372</td>\n",
       "      <td>0.75344</td>\n",
       "      <td>15.92345</td>\n",
       "    </tr>\n",
       "    <tr>\n",
       "      <th>주당근로시간</th>\n",
       "      <td>1.00916</td>\n",
       "      <td>0.97983</td>\n",
       "      <td>1.03937</td>\n",
       "    </tr>\n",
       "  </tbody>\n",
       "</table>\n",
       "</div>"
      ],
      "text/plain": [
       "                                                    OR  Lower CI  Upper CI\n",
       "Intercept                                      0.02422   0.00430   0.13641\n",
       "C(직장에서의복리후생제공여부, Treatment('제공하지않는다'))[T.제공한다] 1.51594   0.66074   3.47803\n",
       "C(보험가입여부, Treatment('가입하지않음'))[T.가입했다]         1.23741   0.56964   2.68798\n",
       "C(직장만족도, Treatment('그렇지않다'))[T.그렇다]            9.23853   2.08864  40.86418\n",
       "C(직장만족도, Treatment('그렇지않다'))[T.보통이다]           3.46372   0.75344  15.92345\n",
       "주당근로시간                                         1.00916   0.97983   1.03937"
      ]
     },
     "execution_count": 11,
     "metadata": {},
     "output_type": "execute_result"
    }
   ],
   "source": [
    "print('==================================Odds Ratio=========================================')\n",
    "# 오즈비 계산(Confidence interval 포함)\n",
    "odds_ratios_3 = pd.DataFrame(\n",
    "    {\n",
    "        \"OR\": model_3.params,\n",
    "        \"Lower CI\": model_3.conf_int()[0],\n",
    "        \"Upper CI\": model_3.conf_int()[1],\n",
    "    }\n",
    ")\n",
    "odds_ratios_3 = np.exp(odds_ratios_3)\n",
    "odds_ratios_3"
   ]
  },
  {
   "cell_type": "code",
   "execution_count": 12,
   "metadata": {},
   "outputs": [
    {
     "data": {
      "text/plain": [
       "Index(['Intercept', 'C(직장에서의복리후생제공여부, Treatment('제공하지않는다'))[T.제공한다]',\n",
       "       'C(보험가입여부, Treatment('가입하지않음'))[T.가입했다]',\n",
       "       'C(직장만족도, Treatment('그렇지않다'))[T.그렇다]',\n",
       "       'C(직장만족도, Treatment('그렇지않다'))[T.보통이다]', '주당근로시간'],\n",
       "      dtype='object')"
      ]
     },
     "execution_count": 12,
     "metadata": {},
     "output_type": "execute_result"
    }
   ],
   "source": [
    "odds_ratios_3.index"
   ]
  },
  {
   "cell_type": "code",
   "execution_count": 13,
   "metadata": {},
   "outputs": [],
   "source": [
    "odds_ratios_3.index = ['절편', '직장에서의복리후생제공여부, REF:제공하지않는다|제공한다',\n",
    "       '보험가입여부, REF:가입하지않음|가입했다',\n",
    "       '직장만족도, REF:그렇지않다|그렇다',\n",
    "       '직장만족도, REF:그렇지않다:보통이다', '주당근로시간']"
   ]
  },
  {
   "cell_type": "code",
   "execution_count": 14,
   "metadata": {},
   "outputs": [
    {
     "data": {
      "text/plain": [
       "(6, 4)"
      ]
     },
     "execution_count": 14,
     "metadata": {},
     "output_type": "execute_result"
    }
   ],
   "source": [
    "odds_ratios_3['label'] = odds_ratios_3.index\n",
    "odds_ratios_3.shape"
   ]
  },
  {
   "cell_type": "code",
   "execution_count": 15,
   "metadata": {},
   "outputs": [],
   "source": [
    "odds_ratios_3['group'] = ['절편', '직장에서의복리후생제공여부',\n",
    "       '보험가입여부',\n",
    "       '직장만족도',\n",
    "       '직장만족도', '주당근로시간']"
   ]
  },
  {
   "cell_type": "code",
   "execution_count": 16,
   "metadata": {},
   "outputs": [
    {
     "data": {
      "text/html": [
       "<div>\n",
       "<style scoped>\n",
       "    .dataframe tbody tr th:only-of-type {\n",
       "        vertical-align: middle;\n",
       "    }\n",
       "\n",
       "    .dataframe tbody tr th {\n",
       "        vertical-align: top;\n",
       "    }\n",
       "\n",
       "    .dataframe thead th {\n",
       "        text-align: right;\n",
       "    }\n",
       "</style>\n",
       "<table border=\"1\" class=\"dataframe\">\n",
       "  <thead>\n",
       "    <tr style=\"text-align: right;\">\n",
       "      <th></th>\n",
       "      <th>OR</th>\n",
       "      <th>Lower CI</th>\n",
       "      <th>Upper CI</th>\n",
       "      <th>label</th>\n",
       "      <th>group</th>\n",
       "    </tr>\n",
       "  </thead>\n",
       "  <tbody>\n",
       "    <tr>\n",
       "      <th>절편</th>\n",
       "      <td>0.02422</td>\n",
       "      <td>0.00430</td>\n",
       "      <td>0.13641</td>\n",
       "      <td>절편</td>\n",
       "      <td>절편</td>\n",
       "    </tr>\n",
       "    <tr>\n",
       "      <th>직장에서의복리후생제공여부, REF:제공하지않는다|제공한다</th>\n",
       "      <td>1.51594</td>\n",
       "      <td>0.66074</td>\n",
       "      <td>3.47803</td>\n",
       "      <td>직장에서의복리후생제공여부, REF:제공하지않는다|제공한다</td>\n",
       "      <td>직장에서의복리후생제공여부</td>\n",
       "    </tr>\n",
       "    <tr>\n",
       "      <th>보험가입여부, REF:가입하지않음|가입했다</th>\n",
       "      <td>1.23741</td>\n",
       "      <td>0.56964</td>\n",
       "      <td>2.68798</td>\n",
       "      <td>보험가입여부, REF:가입하지않음|가입했다</td>\n",
       "      <td>보험가입여부</td>\n",
       "    </tr>\n",
       "  </tbody>\n",
       "</table>\n",
       "</div>"
      ],
      "text/plain": [
       "                                     OR  Lower CI  Upper CI  \\\n",
       "절편                              0.02422   0.00430   0.13641   \n",
       "직장에서의복리후생제공여부, REF:제공하지않는다|제공한다 1.51594   0.66074   3.47803   \n",
       "보험가입여부, REF:가입하지않음|가입했다         1.23741   0.56964   2.68798   \n",
       "\n",
       "                                                           label  \\\n",
       "절편                                                            절편   \n",
       "직장에서의복리후생제공여부, REF:제공하지않는다|제공한다  직장에서의복리후생제공여부, REF:제공하지않는다|제공한다   \n",
       "보험가입여부, REF:가입하지않음|가입했다                  보험가입여부, REF:가입하지않음|가입했다   \n",
       "\n",
       "                                         group  \n",
       "절편                                          절편  \n",
       "직장에서의복리후생제공여부, REF:제공하지않는다|제공한다  직장에서의복리후생제공여부  \n",
       "보험가입여부, REF:가입하지않음|가입했다                 보험가입여부  "
      ]
     },
     "execution_count": 16,
     "metadata": {},
     "output_type": "execute_result"
    }
   ],
   "source": [
    "odds_ratios_3.head(3)"
   ]
  },
  {
   "cell_type": "code",
   "execution_count": 17,
   "metadata": {},
   "outputs": [
    {
     "data": {
      "image/png": "[encoded data removed]",
      "text/plain": [
       "<Figure size 1224x936 with 1 Axes>"
      ]
     },
     "metadata": {
      "needs_background": "light"
     },
     "output_type": "display_data"
    }
   ],
   "source": [
    "# 오즈비 순서대로 \n",
    "\n",
    "# Define the data\n",
    "data = [(var, odds_ratios_3.loc[var, \"OR\"], odds_ratios_3.loc[var, \"Lower CI\"], odds_ratios_3.loc[var, \"Upper CI\"]) for var in odds_ratios_3.index]\n",
    "\n",
    "# Sort the data by the odds ratio\n",
    "data = sorted(data, key=lambda x: x[1], reverse=True)\n",
    "\n",
    "# Set the figure size\n",
    "plt.figure(figsize=(17, 13))\n",
    "\n",
    "# Plot the data\n",
    "plt.errorbar([x[1] for x in data], range(len(data)), xerr=[x[1] - x[2] for x in data], fmt='s', color='black', \n",
    "             markersize=13, markerfacecolor='blue')\n",
    "\n",
    "# Add the vertical line\n",
    "plt.axvline(x=1, color='red', linestyle='--')\n",
    "\n",
    "# Add the labels and title\n",
    "plt.yticks(range(len(data)), [x[0] for x in data], fontsize=17)\n",
    "plt.xlabel('Odds Ratio', fontsize=15)\n",
    "plt.ylabel('Variable', fontsize=15)\n",
    "plt.title('Forest Plot of Odds Ratios(대구)', fontsize=15)\n",
    "\n",
    "# Show the plot\n",
    "plt.show()"
   ]
  },
  {
   "cell_type": "markdown",
   "metadata": {},
   "source": [
    "#### Using Forest plot packages"
   ]
  },
  {
   "cell_type": "markdown",
   "metadata": {},
   "source": [
    "![Example Image](https://raw.githubusercontent.com/LSYS/forestplot/main/docs/images/main.png)"
   ]
  },
  {
   "cell_type": "markdown",
   "metadata": {},
   "source": [
    "##### 단변-------------"
   ]
  },
  {
   "cell_type": "code",
   "execution_count": 18,
   "metadata": {},
   "outputs": [
    {
     "name": "stdout",
     "output_type": "stream",
     "text": [
      "Optimization terminated successfully.\n",
      "         Current function value: 0.441252\n",
      "         Iterations 6\n",
      "==================================Model Summary=========================================\n",
      "                           Logit Regression Results                           \n",
      "==============================================================================\n",
      "Dep. Variable:              LongWork2   No. Observations:                  284\n",
      "Model:                          Logit   Df Residuals:                      282\n",
      "Method:                           MLE   Df Model:                            1\n",
      "Date:                Mon, 04 Nov 2024   Pseudo R-squ.:                 0.01653\n",
      "Time:                        23:00:26   Log-Likelihood:                -125.32\n",
      "converged:                       True   LL-Null:                       -127.42\n",
      "Covariance Type:            nonrobust   LLR p-value:                   0.04014\n",
      "==================================================================================================================\n",
      "                                                     coef    std err          z      P>|z|      [0.025      0.975]\n",
      "------------------------------------------------------------------------------------------------------------------\n",
      "Intercept                                         -1.7725      0.183     -9.695      0.000      -2.131      -1.414\n",
      "C(직장에서의복리후생제공여부, Treatment('제공하지않는다'))[T.제공한다]     0.8234      0.386      2.133      0.033       0.067       1.580\n",
      "==================================================================================================================\n",
      "==================================Odds Ratio=========================================\n"
     ]
    },
    {
     "data": {
      "text/html": [
       "<div>\n",
       "<style scoped>\n",
       "    .dataframe tbody tr th:only-of-type {\n",
       "        vertical-align: middle;\n",
       "    }\n",
       "\n",
       "    .dataframe tbody tr th {\n",
       "        vertical-align: top;\n",
       "    }\n",
       "\n",
       "    .dataframe thead th {\n",
       "        text-align: right;\n",
       "    }\n",
       "</style>\n",
       "<table border=\"1\" class=\"dataframe\">\n",
       "  <thead>\n",
       "    <tr style=\"text-align: right;\">\n",
       "      <th></th>\n",
       "      <th>OR</th>\n",
       "      <th>Lower CI</th>\n",
       "      <th>Upper CI</th>\n",
       "    </tr>\n",
       "  </thead>\n",
       "  <tbody>\n",
       "    <tr>\n",
       "      <th>Intercept</th>\n",
       "      <td>0.16990</td>\n",
       "      <td>0.11873</td>\n",
       "      <td>0.24312</td>\n",
       "    </tr>\n",
       "    <tr>\n",
       "      <th>C(직장에서의복리후생제공여부, Treatment('제공하지않는다'))[T.제공한다]</th>\n",
       "      <td>2.27834</td>\n",
       "      <td>1.06913</td>\n",
       "      <td>4.85519</td>\n",
       "    </tr>\n",
       "  </tbody>\n",
       "</table>\n",
       "</div>"
      ],
      "text/plain": [
       "                                                    OR  Lower CI  Upper CI\n",
       "Intercept                                      0.16990   0.11873   0.24312\n",
       "C(직장에서의복리후생제공여부, Treatment('제공하지않는다'))[T.제공한다] 2.27834   1.06913   4.85519"
      ]
     },
     "execution_count": 18,
     "metadata": {},
     "output_type": "execute_result"
    }
   ],
   "source": [
    "model_3 = sm.Logit.from_formula('''LongWork2 ~ \n",
    "    + C(직장에서의복리후생제공여부,Treatment('제공하지않는다'))\n",
    "    ''', daegu).fit()\n",
    "print('==================================Model Summary=========================================')\n",
    "print(model_3.summary())\n",
    "\n",
    "print('==================================Odds Ratio=========================================')\n",
    "# 오즈비 계산(Confidence interval 포함)\n",
    "odds_ratios_3 = pd.DataFrame(\n",
    "    {\n",
    "        \"OR\": model_3.params,\n",
    "        \"Lower CI\": model_3.conf_int()[0],\n",
    "        \"Upper CI\": model_3.conf_int()[1],\n",
    "    }\n",
    ")\n",
    "odds_ratios_3 = np.exp(odds_ratios_3)\n",
    "odds_ratios_3"
   ]
  },
  {
   "cell_type": "code",
   "execution_count": 19,
   "metadata": {},
   "outputs": [
    {
     "name": "stdout",
     "output_type": "stream",
     "text": [
      "Optimization terminated successfully.\n",
      "         Current function value: 0.446473\n",
      "         Iterations 6\n",
      "==================================Model Summary=========================================\n",
      "                           Logit Regression Results                           \n",
      "==============================================================================\n",
      "Dep. Variable:              LongWork2   No. Observations:                  284\n",
      "Model:                          Logit   Df Residuals:                      282\n",
      "Method:                           MLE   Df Model:                            1\n",
      "Date:                Mon, 04 Nov 2024   Pseudo R-squ.:                0.004890\n",
      "Time:                        23:00:27   Log-Likelihood:                -126.80\n",
      "converged:                       True   LL-Null:                       -127.42\n",
      "Covariance Type:            nonrobust   LLR p-value:                    0.2643\n",
      "==========================================================================================================\n",
      "                                             coef    std err          z      P>|z|      [0.025      0.975]\n",
      "----------------------------------------------------------------------------------------------------------\n",
      "Intercept                                 -1.7997      0.236     -7.640      0.000      -2.261      -1.338\n",
      "C(보험가입여부, Treatment('가입하지않음'))[T.가입했다]     0.3573      0.321      1.113      0.266      -0.272       0.986\n",
      "==========================================================================================================\n",
      "==================================Odds Ratio=========================================\n"
     ]
    },
    {
     "data": {
      "text/html": [
       "<div>\n",
       "<style scoped>\n",
       "    .dataframe tbody tr th:only-of-type {\n",
       "        vertical-align: middle;\n",
       "    }\n",
       "\n",
       "    .dataframe tbody tr th {\n",
       "        vertical-align: top;\n",
       "    }\n",
       "\n",
       "    .dataframe thead th {\n",
       "        text-align: right;\n",
       "    }\n",
       "</style>\n",
       "<table border=\"1\" class=\"dataframe\">\n",
       "  <thead>\n",
       "    <tr style=\"text-align: right;\">\n",
       "      <th></th>\n",
       "      <th>OR</th>\n",
       "      <th>Lower CI</th>\n",
       "      <th>Upper CI</th>\n",
       "    </tr>\n",
       "  </thead>\n",
       "  <tbody>\n",
       "    <tr>\n",
       "      <th>Intercept</th>\n",
       "      <td>0.16535</td>\n",
       "      <td>0.10421</td>\n",
       "      <td>0.26238</td>\n",
       "    </tr>\n",
       "    <tr>\n",
       "      <th>C(보험가입여부, Treatment('가입하지않음'))[T.가입했다]</th>\n",
       "      <td>1.42944</td>\n",
       "      <td>0.76194</td>\n",
       "      <td>2.68168</td>\n",
       "    </tr>\n",
       "  </tbody>\n",
       "</table>\n",
       "</div>"
      ],
      "text/plain": [
       "                                            OR  Lower CI  Upper CI\n",
       "Intercept                              0.16535   0.10421   0.26238\n",
       "C(보험가입여부, Treatment('가입하지않음'))[T.가입했다] 1.42944   0.76194   2.68168"
      ]
     },
     "execution_count": 19,
     "metadata": {},
     "output_type": "execute_result"
    }
   ],
   "source": [
    "model_3 = sm.Logit.from_formula('''LongWork2 ~ \n",
    "    C(보험가입여부,Treatment('가입하지않음'))\n",
    "    ''', daegu).fit()\n",
    "print('==================================Model Summary=========================================')\n",
    "print(model_3.summary())\n",
    "\n",
    "print('==================================Odds Ratio=========================================')\n",
    "# 오즈비 계산(Confidence interval 포함)\n",
    "odds_ratios_3 = pd.DataFrame(\n",
    "    {\n",
    "        \"OR\": model_3.params,\n",
    "        \"Lower CI\": model_3.conf_int()[0],\n",
    "        \"Upper CI\": model_3.conf_int()[1],\n",
    "    }\n",
    ")\n",
    "odds_ratios_3 = np.exp(odds_ratios_3)\n",
    "odds_ratios_3"
   ]
  },
  {
   "cell_type": "code",
   "execution_count": 20,
   "metadata": {},
   "outputs": [
    {
     "name": "stdout",
     "output_type": "stream",
     "text": [
      "Optimization terminated successfully.\n",
      "         Current function value: 0.447315\n",
      "         Iterations 6\n",
      "==================================Model Summary=========================================\n",
      "                           Logit Regression Results                           \n",
      "==============================================================================\n",
      "Dep. Variable:              LongWork2   No. Observations:                  284\n",
      "Model:                          Logit   Df Residuals:                      282\n",
      "Method:                           MLE   Df Model:                            1\n",
      "Date:                Mon, 04 Nov 2024   Pseudo R-squ.:                0.003014\n",
      "Time:                        23:00:27   Log-Likelihood:                -127.04\n",
      "converged:                       True   LL-Null:                       -127.42\n",
      "Covariance Type:            nonrobust   LLR p-value:                    0.3808\n",
      "==============================================================================\n",
      "                 coef    std err          z      P>|z|      [0.025      0.975]\n",
      "------------------------------------------------------------------------------\n",
      "Intercept     -1.9866      0.462     -4.297      0.000      -2.893      -1.081\n",
      "주당근로시간         0.0108      0.013      0.866      0.387      -0.014       0.035\n",
      "==============================================================================\n",
      "==================================Odds Ratio=========================================\n"
     ]
    },
    {
     "data": {
      "text/html": [
       "<div>\n",
       "<style scoped>\n",
       "    .dataframe tbody tr th:only-of-type {\n",
       "        vertical-align: middle;\n",
       "    }\n",
       "\n",
       "    .dataframe tbody tr th {\n",
       "        vertical-align: top;\n",
       "    }\n",
       "\n",
       "    .dataframe thead th {\n",
       "        text-align: right;\n",
       "    }\n",
       "</style>\n",
       "<table border=\"1\" class=\"dataframe\">\n",
       "  <thead>\n",
       "    <tr style=\"text-align: right;\">\n",
       "      <th></th>\n",
       "      <th>OR</th>\n",
       "      <th>Lower CI</th>\n",
       "      <th>Upper CI</th>\n",
       "    </tr>\n",
       "  </thead>\n",
       "  <tbody>\n",
       "    <tr>\n",
       "      <th>Intercept</th>\n",
       "      <td>0.13715</td>\n",
       "      <td>0.05543</td>\n",
       "      <td>0.33940</td>\n",
       "    </tr>\n",
       "    <tr>\n",
       "      <th>주당근로시간</th>\n",
       "      <td>1.01088</td>\n",
       "      <td>0.98641</td>\n",
       "      <td>1.03595</td>\n",
       "    </tr>\n",
       "  </tbody>\n",
       "</table>\n",
       "</div>"
      ],
      "text/plain": [
       "               OR  Lower CI  Upper CI\n",
       "Intercept 0.13715   0.05543   0.33940\n",
       "주당근로시간    1.01088   0.98641   1.03595"
      ]
     },
     "execution_count": 20,
     "metadata": {},
     "output_type": "execute_result"
    }
   ],
   "source": [
    "model_3 = sm.Logit.from_formula('''LongWork2 ~ \n",
    "   주당근로시간''', daegu).fit()\n",
    "print('==================================Model Summary=========================================')\n",
    "print(model_3.summary())\n",
    "\n",
    "print('==================================Odds Ratio=========================================')\n",
    "# 오즈비 계산(Confidence interval 포함)\n",
    "odds_ratios_3 = pd.DataFrame(\n",
    "    {\n",
    "        \"OR\": model_3.params,\n",
    "        \"Lower CI\": model_3.conf_int()[0],\n",
    "        \"Upper CI\": model_3.conf_int()[1],\n",
    "    }\n",
    ")\n",
    "odds_ratios_3 = np.exp(odds_ratios_3)\n",
    "odds_ratios_3"
   ]
  },
  {
   "cell_type": "code",
   "execution_count": 21,
   "metadata": {},
   "outputs": [
    {
     "name": "stdout",
     "output_type": "stream",
     "text": [
      "Optimization terminated successfully.\n",
      "         Current function value: 0.416070\n",
      "         Iterations 7\n",
      "==================================Model Summary=========================================\n",
      "                           Logit Regression Results                           \n",
      "==============================================================================\n",
      "Dep. Variable:              LongWork2   No. Observations:                  284\n",
      "Model:                          Logit   Df Residuals:                      281\n",
      "Method:                           MLE   Df Model:                            2\n",
      "Date:                Mon, 04 Nov 2024   Pseudo R-squ.:                 0.07265\n",
      "Time:                        23:00:27   Log-Likelihood:                -118.16\n",
      "converged:                       True   LL-Null:                       -127.42\n",
      "Covariance Type:            nonrobust   LLR p-value:                 9.538e-05\n",
      "========================================================================================================\n",
      "                                           coef    std err          z      P>|z|      [0.025      0.975]\n",
      "--------------------------------------------------------------------------------------------------------\n",
      "Intercept                               -3.2189      0.721     -4.464      0.000      -4.632      -1.806\n",
      "C(직장만족도, Treatment('그렇지않다'))[T.그렇다]      2.2340      0.751      2.974      0.003       0.762       3.706\n",
      "C(직장만족도, Treatment('그렇지않다'))[T.보통이다]     1.2135      0.775      1.565      0.118      -0.306       2.733\n",
      "========================================================================================================\n",
      "==================================Odds Ratio=========================================\n"
     ]
    },
    {
     "data": {
      "text/html": [
       "<div>\n",
       "<style scoped>\n",
       "    .dataframe tbody tr th:only-of-type {\n",
       "        vertical-align: middle;\n",
       "    }\n",
       "\n",
       "    .dataframe tbody tr th {\n",
       "        vertical-align: top;\n",
       "    }\n",
       "\n",
       "    .dataframe thead th {\n",
       "        text-align: right;\n",
       "    }\n",
       "</style>\n",
       "<table border=\"1\" class=\"dataframe\">\n",
       "  <thead>\n",
       "    <tr style=\"text-align: right;\">\n",
       "      <th></th>\n",
       "      <th>OR</th>\n",
       "      <th>Lower CI</th>\n",
       "      <th>Upper CI</th>\n",
       "    </tr>\n",
       "  </thead>\n",
       "  <tbody>\n",
       "    <tr>\n",
       "      <th>Intercept</th>\n",
       "      <td>0.04000</td>\n",
       "      <td>0.00973</td>\n",
       "      <td>0.16439</td>\n",
       "    </tr>\n",
       "    <tr>\n",
       "      <th>C(직장만족도, Treatment('그렇지않다'))[T.그렇다]</th>\n",
       "      <td>9.33735</td>\n",
       "      <td>2.14190</td>\n",
       "      <td>40.70511</td>\n",
       "    </tr>\n",
       "    <tr>\n",
       "      <th>C(직장만족도, Treatment('그렇지않다'))[T.보통이다]</th>\n",
       "      <td>3.36538</td>\n",
       "      <td>0.73642</td>\n",
       "      <td>15.37963</td>\n",
       "    </tr>\n",
       "  </tbody>\n",
       "</table>\n",
       "</div>"
      ],
      "text/plain": [
       "                                          OR  Lower CI  Upper CI\n",
       "Intercept                            0.04000   0.00973   0.16439\n",
       "C(직장만족도, Treatment('그렇지않다'))[T.그렇다]  9.33735   2.14190  40.70511\n",
       "C(직장만족도, Treatment('그렇지않다'))[T.보통이다] 3.36538   0.73642  15.37963"
      ]
     },
     "execution_count": 21,
     "metadata": {},
     "output_type": "execute_result"
    }
   ],
   "source": [
    "model_3 = sm.Logit.from_formula('''LongWork2 ~ \n",
    "    C(직장만족도,Treatment('그렇지않다'))''', daegu).fit()\n",
    "print('==================================Model Summary=========================================')\n",
    "print(model_3.summary())\n",
    "\n",
    "print('==================================Odds Ratio=========================================')\n",
    "# 오즈비 계산(Confidence interval 포함)\n",
    "odds_ratios_3 = pd.DataFrame(\n",
    "    {\n",
    "        \"OR\": model_3.params,\n",
    "        \"Lower CI\": model_3.conf_int()[0],\n",
    "        \"Upper CI\": model_3.conf_int()[1],\n",
    "    }\n",
    ")\n",
    "odds_ratios_3 = np.exp(odds_ratios_3)\n",
    "odds_ratios_3"
   ]
  },
  {
   "cell_type": "code",
   "execution_count": null,
   "metadata": {},
   "outputs": [],
   "source": []
  },
  {
   "cell_type": "code",
   "execution_count": null,
   "metadata": {},
   "outputs": [],
   "source": []
  },
  {
   "cell_type": "code",
   "execution_count": null,
   "metadata": {},
   "outputs": [],
   "source": []
  }
 ],
 "metadata": {
  "kernelspec": {
   "display_name": "Python 3 (ipykernel)",
   "language": "python",
   "name": "python3"
  },
  "language_info": {
   "codemirror_mode": {
    "name": "ipython",
    "version": 3
   },
   "file_extension": ".py",
   "mimetype": "text/x-python",
   "name": "python",
   "nbconvert_exporter": "python",
   "pygments_lexer": "ipython3",
   "version": "3.8.13"
  }
 },
 "nbformat": 4,
 "nbformat_minor": 2
}
