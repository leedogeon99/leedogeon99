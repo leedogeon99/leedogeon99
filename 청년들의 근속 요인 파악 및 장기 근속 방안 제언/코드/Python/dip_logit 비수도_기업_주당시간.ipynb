{
 "cells": [
  {
   "cell_type": "markdown",
   "metadata": {},
   "source": [
    "#### packages"
   ]
  },
  {
   "cell_type": "code",
   "execution_count": 1,
   "metadata": {},
   "outputs": [],
   "source": [
    "import pandas as pd\n",
    "import numpy as np\n",
    "import statsmodels.api as sm\n",
    "import sklearn\n",
    "import scipy\n",
    "import matplotlib.pyplot as plt\n",
    "import forestplot as fp"
   ]
  },
  {
   "cell_type": "code",
   "execution_count": 2,
   "metadata": {},
   "outputs": [],
   "source": [
    "pd.options.display.float_format = '{:.5f}'.format"
   ]
  },
  {
   "cell_type": "code",
   "execution_count": 3,
   "metadata": {},
   "outputs": [],
   "source": [
    "from matplotlib import font_manager, rc\n",
    "rc('font', family='AppleGothic')\n",
    "plt.rcParams['axes.unicode_minus'] = False"
   ]
  },
  {
   "cell_type": "markdown",
   "metadata": {},
   "source": [
    "##### Data"
   ]
  },
  {
   "cell_type": "code",
   "execution_count": 4,
   "metadata": {},
   "outputs": [
    {
     "data": {
      "text/plain": [
       "pid              0\n",
       "majorcat         0\n",
       "province         0\n",
       "area             0\n",
       "sex              0\n",
       "                ..\n",
       "주당근로시간           0\n",
       "주당근로시간_binary    0\n",
       "직장에서의복리후생제공여부    0\n",
       "보험가입여부           0\n",
       "직장만족도            0\n",
       "Length: 141, dtype: int64"
      ]
     },
     "execution_count": 4,
     "metadata": {},
     "output_type": "execute_result"
    }
   ],
   "source": [
    "df = pd.read_csv('/Users/idogeon/Desktop/포트폴리오/DIP/데이터/re_0826.csv', encoding='cp949')\n",
    "df.isnull().sum()"
   ]
  },
  {
   "cell_type": "code",
   "execution_count": 5,
   "metadata": {},
   "outputs": [],
   "source": [
    "df_copy = df.copy()"
   ]
  },
  {
   "cell_type": "code",
   "execution_count": 6,
   "metadata": {},
   "outputs": [
    {
     "name": "stdout",
     "output_type": "stream",
     "text": [
      "Optimization terminated successfully.\n",
      "         Current function value: 0.392124\n",
      "         Iterations 6\n",
      "==================================Model Summary=========================================\n"
     ]
    },
    {
     "data": {
      "text/html": [
       "<table class=\"simpletable\">\n",
       "<caption>Logit Regression Results</caption>\n",
       "<tr>\n",
       "  <th>Dep. Variable:</th>       <td>LongWork2</td>    <th>  No. Observations:  </th>  <td>  2684</td>  \n",
       "</tr>\n",
       "<tr>\n",
       "  <th>Model:</th>                 <td>Logit</td>      <th>  Df Residuals:      </th>  <td>  2681</td>  \n",
       "</tr>\n",
       "<tr>\n",
       "  <th>Method:</th>                 <td>MLE</td>       <th>  Df Model:          </th>  <td>     2</td>  \n",
       "</tr>\n",
       "<tr>\n",
       "  <th>Date:</th>            <td>Mon, 04 Nov 2024</td> <th>  Pseudo R-squ.:     </th>  <td>0.03209</td> \n",
       "</tr>\n",
       "<tr>\n",
       "  <th>Time:</th>                <td>23:00:49</td>     <th>  Log-Likelihood:    </th> <td> -1052.5</td> \n",
       "</tr>\n",
       "<tr>\n",
       "  <th>converged:</th>             <td>True</td>       <th>  LL-Null:           </th> <td> -1087.4</td> \n",
       "</tr>\n",
       "<tr>\n",
       "  <th>Covariance Type:</th>     <td>nonrobust</td>    <th>  LLR p-value:       </th> <td>6.987e-16</td>\n",
       "</tr>\n",
       "</table>\n",
       "<table class=\"simpletable\">\n",
       "<tr>\n",
       "                         <td></td>                           <th>coef</th>     <th>std err</th>      <th>z</th>      <th>P>|z|</th>  <th>[0.025</th>    <th>0.975]</th>  \n",
       "</tr>\n",
       "<tr>\n",
       "  <th>Intercept</th>                                      <td>   -2.1317</td> <td>    0.089</td> <td>  -23.886</td> <td> 0.000</td> <td>   -2.307</td> <td>   -1.957</td>\n",
       "</tr>\n",
       "<tr>\n",
       "  <th>C(직장에서의복리후생제공여부, Treatment('제공하지않는다'))[T.제공한다]</th> <td>    1.0136</td> <td>    0.129</td> <td>    7.862</td> <td> 0.000</td> <td>    0.761</td> <td>    1.266</td>\n",
       "</tr>\n",
       "<tr>\n",
       "  <th>C(보험가입여부, Treatment('가입하지않음'))[T.가입했다]</th>         <td>    0.1303</td> <td>    0.120</td> <td>    1.084</td> <td> 0.278</td> <td>   -0.105</td> <td>    0.366</td>\n",
       "</tr>\n",
       "</table>"
      ],
      "text/plain": [
       "<class 'statsmodels.iolib.summary.Summary'>\n",
       "\"\"\"\n",
       "                           Logit Regression Results                           \n",
       "==============================================================================\n",
       "Dep. Variable:              LongWork2   No. Observations:                 2684\n",
       "Model:                          Logit   Df Residuals:                     2681\n",
       "Method:                           MLE   Df Model:                            2\n",
       "Date:                Mon, 04 Nov 2024   Pseudo R-squ.:                 0.03209\n",
       "Time:                        23:00:49   Log-Likelihood:                -1052.5\n",
       "converged:                       True   LL-Null:                       -1087.4\n",
       "Covariance Type:            nonrobust   LLR p-value:                 6.987e-16\n",
       "==================================================================================================================\n",
       "                                                     coef    std err          z      P>|z|      [0.025      0.975]\n",
       "------------------------------------------------------------------------------------------------------------------\n",
       "Intercept                                         -2.1317      0.089    -23.886      0.000      -2.307      -1.957\n",
       "C(직장에서의복리후생제공여부, Treatment('제공하지않는다'))[T.제공한다]     1.0136      0.129      7.862      0.000       0.761       1.266\n",
       "C(보험가입여부, Treatment('가입하지않음'))[T.가입했다]             0.1303      0.120      1.084      0.278      -0.105       0.366\n",
       "==================================================================================================================\n",
       "\"\"\""
      ]
     },
     "execution_count": 6,
     "metadata": {},
     "output_type": "execute_result"
    }
   ],
   "source": [
    "비수도권 = df_copy[(df_copy['사업체지역']!='서울')&(df_copy['사업체지역']!='경기')].copy()\n",
    "\n",
    "model_1 = sm.Logit.from_formula('''LongWork2 ~ C(직장에서의복리후생제공여부,Treatment('제공하지않는다'))\n",
    "    + C(보험가입여부,Treatment('가입하지않음'))''', 비수도권).fit()\n",
    "print('==================================Model Summary=========================================')\n",
    "model_1.summary()"
   ]
  },
  {
   "cell_type": "code",
   "execution_count": 7,
   "metadata": {},
   "outputs": [
    {
     "name": "stdout",
     "output_type": "stream",
     "text": [
      "==================================Odds Ratio=========================================\n"
     ]
    },
    {
     "data": {
      "text/html": [
       "<div>\n",
       "<style scoped>\n",
       "    .dataframe tbody tr th:only-of-type {\n",
       "        vertical-align: middle;\n",
       "    }\n",
       "\n",
       "    .dataframe tbody tr th {\n",
       "        vertical-align: top;\n",
       "    }\n",
       "\n",
       "    .dataframe thead th {\n",
       "        text-align: right;\n",
       "    }\n",
       "</style>\n",
       "<table border=\"1\" class=\"dataframe\">\n",
       "  <thead>\n",
       "    <tr style=\"text-align: right;\">\n",
       "      <th></th>\n",
       "      <th>OR</th>\n",
       "      <th>Lower CI</th>\n",
       "      <th>Upper CI</th>\n",
       "    </tr>\n",
       "  </thead>\n",
       "  <tbody>\n",
       "    <tr>\n",
       "      <th>Intercept</th>\n",
       "      <td>0.11864</td>\n",
       "      <td>0.09960</td>\n",
       "      <td>0.14132</td>\n",
       "    </tr>\n",
       "    <tr>\n",
       "      <th>C(직장에서의복리후생제공여부, Treatment('제공하지않는다'))[T.제공한다]</th>\n",
       "      <td>2.75548</td>\n",
       "      <td>2.14023</td>\n",
       "      <td>3.54760</td>\n",
       "    </tr>\n",
       "    <tr>\n",
       "      <th>C(보험가입여부, Treatment('가입하지않음'))[T.가입했다]</th>\n",
       "      <td>1.13922</td>\n",
       "      <td>0.89999</td>\n",
       "      <td>1.44204</td>\n",
       "    </tr>\n",
       "  </tbody>\n",
       "</table>\n",
       "</div>"
      ],
      "text/plain": [
       "                                                    OR  Lower CI  Upper CI\n",
       "Intercept                                      0.11864   0.09960   0.14132\n",
       "C(직장에서의복리후생제공여부, Treatment('제공하지않는다'))[T.제공한다] 2.75548   2.14023   3.54760\n",
       "C(보험가입여부, Treatment('가입하지않음'))[T.가입했다]         1.13922   0.89999   1.44204"
      ]
     },
     "execution_count": 7,
     "metadata": {},
     "output_type": "execute_result"
    }
   ],
   "source": [
    "print('==================================Odds Ratio=========================================')\n",
    "# 오즈비 계산(Confidence interval 포함)\n",
    "odds_ratios_1 = pd.DataFrame(\n",
    "    {\n",
    "        \"OR\": model_1.params,\n",
    "        \"Lower CI\": model_1.conf_int()[0],\n",
    "        \"Upper CI\": model_1.conf_int()[1],\n",
    "    }\n",
    ")\n",
    "odds_ratios_1 = np.exp(odds_ratios_1)\n",
    "odds_ratios_1"
   ]
  },
  {
   "cell_type": "code",
   "execution_count": 8,
   "metadata": {},
   "outputs": [
    {
     "name": "stdout",
     "output_type": "stream",
     "text": [
      "Optimization terminated successfully.\n",
      "         Current function value: 0.391353\n",
      "         Iterations 6\n",
      "==================================Model Summary=========================================\n"
     ]
    },
    {
     "data": {
      "text/html": [
       "<table class=\"simpletable\">\n",
       "<caption>Logit Regression Results</caption>\n",
       "<tr>\n",
       "  <th>Dep. Variable:</th>       <td>LongWork2</td>    <th>  No. Observations:  </th>  <td>  2684</td>  \n",
       "</tr>\n",
       "<tr>\n",
       "  <th>Model:</th>                 <td>Logit</td>      <th>  Df Residuals:      </th>  <td>  2680</td>  \n",
       "</tr>\n",
       "<tr>\n",
       "  <th>Method:</th>                 <td>MLE</td>       <th>  Df Model:          </th>  <td>     3</td>  \n",
       "</tr>\n",
       "<tr>\n",
       "  <th>Date:</th>            <td>Mon, 04 Nov 2024</td> <th>  Pseudo R-squ.:     </th>  <td>0.03400</td> \n",
       "</tr>\n",
       "<tr>\n",
       "  <th>Time:</th>                <td>23:00:49</td>     <th>  Log-Likelihood:    </th> <td> -1050.4</td> \n",
       "</tr>\n",
       "<tr>\n",
       "  <th>converged:</th>             <td>True</td>       <th>  LL-Null:           </th> <td> -1087.4</td> \n",
       "</tr>\n",
       "<tr>\n",
       "  <th>Covariance Type:</th>     <td>nonrobust</td>    <th>  LLR p-value:       </th> <td>6.130e-16</td>\n",
       "</tr>\n",
       "</table>\n",
       "<table class=\"simpletable\">\n",
       "<tr>\n",
       "                         <td></td>                           <th>coef</th>     <th>std err</th>      <th>z</th>      <th>P>|z|</th>  <th>[0.025</th>    <th>0.975]</th>  \n",
       "</tr>\n",
       "<tr>\n",
       "  <th>Intercept</th>                                      <td>   -2.4447</td> <td>    0.182</td> <td>  -13.413</td> <td> 0.000</td> <td>   -2.802</td> <td>   -2.088</td>\n",
       "</tr>\n",
       "<tr>\n",
       "  <th>C(직장에서의복리후생제공여부, Treatment('제공하지않는다'))[T.제공한다]</th> <td>    1.0052</td> <td>    0.129</td> <td>    7.801</td> <td> 0.000</td> <td>    0.753</td> <td>    1.258</td>\n",
       "</tr>\n",
       "<tr>\n",
       "  <th>C(보험가입여부, Treatment('가입하지않음'))[T.가입했다]</th>         <td>    0.0406</td> <td>    0.127</td> <td>    0.320</td> <td> 0.749</td> <td>   -0.208</td> <td>    0.290</td>\n",
       "</tr>\n",
       "<tr>\n",
       "  <th>주당근로시간</th>                                         <td>    0.0101</td> <td>    0.005</td> <td>    2.030</td> <td> 0.042</td> <td>    0.000</td> <td>    0.020</td>\n",
       "</tr>\n",
       "</table>"
      ],
      "text/plain": [
       "<class 'statsmodels.iolib.summary.Summary'>\n",
       "\"\"\"\n",
       "                           Logit Regression Results                           \n",
       "==============================================================================\n",
       "Dep. Variable:              LongWork2   No. Observations:                 2684\n",
       "Model:                          Logit   Df Residuals:                     2680\n",
       "Method:                           MLE   Df Model:                            3\n",
       "Date:                Mon, 04 Nov 2024   Pseudo R-squ.:                 0.03400\n",
       "Time:                        23:00:49   Log-Likelihood:                -1050.4\n",
       "converged:                       True   LL-Null:                       -1087.4\n",
       "Covariance Type:            nonrobust   LLR p-value:                 6.130e-16\n",
       "==================================================================================================================\n",
       "                                                     coef    std err          z      P>|z|      [0.025      0.975]\n",
       "------------------------------------------------------------------------------------------------------------------\n",
       "Intercept                                         -2.4447      0.182    -13.413      0.000      -2.802      -2.088\n",
       "C(직장에서의복리후생제공여부, Treatment('제공하지않는다'))[T.제공한다]     1.0052      0.129      7.801      0.000       0.753       1.258\n",
       "C(보험가입여부, Treatment('가입하지않음'))[T.가입했다]             0.0406      0.127      0.320      0.749      -0.208       0.290\n",
       "주당근로시간                                             0.0101      0.005      2.030      0.042       0.000       0.020\n",
       "==================================================================================================================\n",
       "\"\"\""
      ]
     },
     "execution_count": 8,
     "metadata": {},
     "output_type": "execute_result"
    }
   ],
   "source": [
    "model_2 = sm.Logit.from_formula('''LongWork2 ~ + C(직장에서의복리후생제공여부,Treatment('제공하지않는다'))\n",
    "    +  C(보험가입여부,Treatment('가입하지않음')) + 주당근로시간''', 비수도권).fit()\n",
    "print('==================================Model Summary=========================================')\n",
    "model_2.summary()"
   ]
  },
  {
   "cell_type": "code",
   "execution_count": 9,
   "metadata": {},
   "outputs": [
    {
     "name": "stdout",
     "output_type": "stream",
     "text": [
      "==================================Odds Ratio=========================================\n"
     ]
    },
    {
     "data": {
      "text/html": [
       "<div>\n",
       "<style scoped>\n",
       "    .dataframe tbody tr th:only-of-type {\n",
       "        vertical-align: middle;\n",
       "    }\n",
       "\n",
       "    .dataframe tbody tr th {\n",
       "        vertical-align: top;\n",
       "    }\n",
       "\n",
       "    .dataframe thead th {\n",
       "        text-align: right;\n",
       "    }\n",
       "</style>\n",
       "<table border=\"1\" class=\"dataframe\">\n",
       "  <thead>\n",
       "    <tr style=\"text-align: right;\">\n",
       "      <th></th>\n",
       "      <th>OR</th>\n",
       "      <th>Lower CI</th>\n",
       "      <th>Upper CI</th>\n",
       "    </tr>\n",
       "  </thead>\n",
       "  <tbody>\n",
       "    <tr>\n",
       "      <th>Intercept</th>\n",
       "      <td>0.08675</td>\n",
       "      <td>0.06069</td>\n",
       "      <td>0.12400</td>\n",
       "    </tr>\n",
       "    <tr>\n",
       "      <th>C(직장에서의복리후생제공여부, Treatment('제공하지않는다'))[T.제공한다]</th>\n",
       "      <td>2.73257</td>\n",
       "      <td>2.12271</td>\n",
       "      <td>3.51764</td>\n",
       "    </tr>\n",
       "    <tr>\n",
       "      <th>C(보험가입여부, Treatment('가입하지않음'))[T.가입했다]</th>\n",
       "      <td>1.04148</td>\n",
       "      <td>0.81190</td>\n",
       "      <td>1.33598</td>\n",
       "    </tr>\n",
       "    <tr>\n",
       "      <th>주당근로시간</th>\n",
       "      <td>1.01013</td>\n",
       "      <td>1.00035</td>\n",
       "      <td>1.02000</td>\n",
       "    </tr>\n",
       "  </tbody>\n",
       "</table>\n",
       "</div>"
      ],
      "text/plain": [
       "                                                    OR  Lower CI  Upper CI\n",
       "Intercept                                      0.08675   0.06069   0.12400\n",
       "C(직장에서의복리후생제공여부, Treatment('제공하지않는다'))[T.제공한다] 2.73257   2.12271   3.51764\n",
       "C(보험가입여부, Treatment('가입하지않음'))[T.가입했다]         1.04148   0.81190   1.33598\n",
       "주당근로시간                                         1.01013   1.00035   1.02000"
      ]
     },
     "execution_count": 9,
     "metadata": {},
     "output_type": "execute_result"
    }
   ],
   "source": [
    "print('==================================Odds Ratio=========================================')\n",
    "# 오즈비 계산(Confidence interval 포함)\n",
    "odds_ratios_2 = pd.DataFrame(\n",
    "    {\n",
    "        \"OR\": model_2.params,\n",
    "        \"Lower CI\": model_2.conf_int()[0],\n",
    "        \"Upper CI\": model_2.conf_int()[1],\n",
    "    }\n",
    ")\n",
    "odds_ratios_2 = np.exp(odds_ratios_2)\n",
    "odds_ratios_2"
   ]
  },
  {
   "cell_type": "code",
   "execution_count": 10,
   "metadata": {},
   "outputs": [
    {
     "name": "stdout",
     "output_type": "stream",
     "text": [
      "Optimization terminated successfully.\n",
      "         Current function value: 0.373986\n",
      "         Iterations 7\n",
      "==================================Model Summary=========================================\n"
     ]
    },
    {
     "data": {
      "text/html": [
       "<table class=\"simpletable\">\n",
       "<caption>Logit Regression Results</caption>\n",
       "<tr>\n",
       "  <th>Dep. Variable:</th>       <td>LongWork2</td>    <th>  No. Observations:  </th>  <td>  2684</td>  \n",
       "</tr>\n",
       "<tr>\n",
       "  <th>Model:</th>                 <td>Logit</td>      <th>  Df Residuals:      </th>  <td>  2678</td>  \n",
       "</tr>\n",
       "<tr>\n",
       "  <th>Method:</th>                 <td>MLE</td>       <th>  Df Model:          </th>  <td>     5</td>  \n",
       "</tr>\n",
       "<tr>\n",
       "  <th>Date:</th>            <td>Mon, 04 Nov 2024</td> <th>  Pseudo R-squ.:     </th>  <td>0.07686</td> \n",
       "</tr>\n",
       "<tr>\n",
       "  <th>Time:</th>                <td>23:00:49</td>     <th>  Log-Likelihood:    </th> <td> -1003.8</td> \n",
       "</tr>\n",
       "<tr>\n",
       "  <th>converged:</th>             <td>True</td>       <th>  LL-Null:           </th> <td> -1087.4</td> \n",
       "</tr>\n",
       "<tr>\n",
       "  <th>Covariance Type:</th>     <td>nonrobust</td>    <th>  LLR p-value:       </th> <td>2.948e-34</td>\n",
       "</tr>\n",
       "</table>\n",
       "<table class=\"simpletable\">\n",
       "<tr>\n",
       "                         <td></td>                           <th>coef</th>     <th>std err</th>      <th>z</th>      <th>P>|z|</th>  <th>[0.025</th>    <th>0.975]</th>  \n",
       "</tr>\n",
       "<tr>\n",
       "  <th>Intercept</th>                                      <td>   -3.7234</td> <td>    0.278</td> <td>  -13.403</td> <td> 0.000</td> <td>   -4.268</td> <td>   -3.179</td>\n",
       "</tr>\n",
       "<tr>\n",
       "  <th>C(직장에서의복리후생제공여부, Treatment('제공하지않는다'))[T.제공한다]</th> <td>    0.8153</td> <td>    0.132</td> <td>    6.168</td> <td> 0.000</td> <td>    0.556</td> <td>    1.074</td>\n",
       "</tr>\n",
       "<tr>\n",
       "  <th>C(보험가입여부, Treatment('가입하지않음'))[T.가입했다]</th>         <td>    0.0861</td> <td>    0.128</td> <td>    0.670</td> <td> 0.503</td> <td>   -0.166</td> <td>    0.338</td>\n",
       "</tr>\n",
       "<tr>\n",
       "  <th>C(직장만족도, Treatment('그렇지않다'))[T.그렇다]</th>            <td>    1.6308</td> <td>    0.214</td> <td>    7.631</td> <td> 0.000</td> <td>    1.212</td> <td>    2.050</td>\n",
       "</tr>\n",
       "<tr>\n",
       "  <th>C(직장만족도, Treatment('그렇지않다'))[T.보통이다]</th>           <td>    0.8344</td> <td>    0.224</td> <td>    3.725</td> <td> 0.000</td> <td>    0.395</td> <td>    1.273</td>\n",
       "</tr>\n",
       "<tr>\n",
       "  <th>주당근로시간</th>                                         <td>    0.0149</td> <td>    0.005</td> <td>    2.950</td> <td> 0.003</td> <td>    0.005</td> <td>    0.025</td>\n",
       "</tr>\n",
       "</table>"
      ],
      "text/plain": [
       "<class 'statsmodels.iolib.summary.Summary'>\n",
       "\"\"\"\n",
       "                           Logit Regression Results                           \n",
       "==============================================================================\n",
       "Dep. Variable:              LongWork2   No. Observations:                 2684\n",
       "Model:                          Logit   Df Residuals:                     2678\n",
       "Method:                           MLE   Df Model:                            5\n",
       "Date:                Mon, 04 Nov 2024   Pseudo R-squ.:                 0.07686\n",
       "Time:                        23:00:49   Log-Likelihood:                -1003.8\n",
       "converged:                       True   LL-Null:                       -1087.4\n",
       "Covariance Type:            nonrobust   LLR p-value:                 2.948e-34\n",
       "==================================================================================================================\n",
       "                                                     coef    std err          z      P>|z|      [0.025      0.975]\n",
       "------------------------------------------------------------------------------------------------------------------\n",
       "Intercept                                         -3.7234      0.278    -13.403      0.000      -4.268      -3.179\n",
       "C(직장에서의복리후생제공여부, Treatment('제공하지않는다'))[T.제공한다]     0.8153      0.132      6.168      0.000       0.556       1.074\n",
       "C(보험가입여부, Treatment('가입하지않음'))[T.가입했다]             0.0861      0.128      0.670      0.503      -0.166       0.338\n",
       "C(직장만족도, Treatment('그렇지않다'))[T.그렇다]                1.6308      0.214      7.631      0.000       1.212       2.050\n",
       "C(직장만족도, Treatment('그렇지않다'))[T.보통이다]               0.8344      0.224      3.725      0.000       0.395       1.273\n",
       "주당근로시간                                             0.0149      0.005      2.950      0.003       0.005       0.025\n",
       "==================================================================================================================\n",
       "\"\"\""
      ]
     },
     "execution_count": 10,
     "metadata": {},
     "output_type": "execute_result"
    }
   ],
   "source": [
    "model_3 = sm.Logit.from_formula('''LongWork2 ~ \n",
    "    + C(직장에서의복리후생제공여부,Treatment('제공하지않는다'))\n",
    "    + C(보험가입여부,Treatment('가입하지않음'))\n",
    "    + 주당근로시간 + C(직장만족도,Treatment('그렇지않다'))''', 비수도권).fit()\n",
    "print('==================================Model Summary=========================================')\n",
    "model_3.summary()"
   ]
  },
  {
   "cell_type": "code",
   "execution_count": 11,
   "metadata": {},
   "outputs": [
    {
     "name": "stdout",
     "output_type": "stream",
     "text": [
      "==================================Odds Ratio=========================================\n"
     ]
    },
    {
     "data": {
      "text/html": [
       "<div>\n",
       "<style scoped>\n",
       "    .dataframe tbody tr th:only-of-type {\n",
       "        vertical-align: middle;\n",
       "    }\n",
       "\n",
       "    .dataframe tbody tr th {\n",
       "        vertical-align: top;\n",
       "    }\n",
       "\n",
       "    .dataframe thead th {\n",
       "        text-align: right;\n",
       "    }\n",
       "</style>\n",
       "<table border=\"1\" class=\"dataframe\">\n",
       "  <thead>\n",
       "    <tr style=\"text-align: right;\">\n",
       "      <th></th>\n",
       "      <th>OR</th>\n",
       "      <th>Lower CI</th>\n",
       "      <th>Upper CI</th>\n",
       "    </tr>\n",
       "  </thead>\n",
       "  <tbody>\n",
       "    <tr>\n",
       "      <th>Intercept</th>\n",
       "      <td>0.02415</td>\n",
       "      <td>0.01401</td>\n",
       "      <td>0.04163</td>\n",
       "    </tr>\n",
       "    <tr>\n",
       "      <th>C(직장에서의복리후생제공여부, Treatment('제공하지않는다'))[T.제공한다]</th>\n",
       "      <td>2.25976</td>\n",
       "      <td>1.74405</td>\n",
       "      <td>2.92796</td>\n",
       "    </tr>\n",
       "    <tr>\n",
       "      <th>C(보험가입여부, Treatment('가입하지않음'))[T.가입했다]</th>\n",
       "      <td>1.08991</td>\n",
       "      <td>0.84728</td>\n",
       "      <td>1.40202</td>\n",
       "    </tr>\n",
       "    <tr>\n",
       "      <th>C(직장만족도, Treatment('그렇지않다'))[T.그렇다]</th>\n",
       "      <td>5.10813</td>\n",
       "      <td>3.36017</td>\n",
       "      <td>7.76537</td>\n",
       "    </tr>\n",
       "    <tr>\n",
       "      <th>C(직장만족도, Treatment('그렇지않다'))[T.보통이다]</th>\n",
       "      <td>2.30336</td>\n",
       "      <td>1.48496</td>\n",
       "      <td>3.57282</td>\n",
       "    </tr>\n",
       "    <tr>\n",
       "      <th>주당근로시간</th>\n",
       "      <td>1.01502</td>\n",
       "      <td>1.00502</td>\n",
       "      <td>1.02513</td>\n",
       "    </tr>\n",
       "  </tbody>\n",
       "</table>\n",
       "</div>"
      ],
      "text/plain": [
       "                                                    OR  Lower CI  Upper CI\n",
       "Intercept                                      0.02415   0.01401   0.04163\n",
       "C(직장에서의복리후생제공여부, Treatment('제공하지않는다'))[T.제공한다] 2.25976   1.74405   2.92796\n",
       "C(보험가입여부, Treatment('가입하지않음'))[T.가입했다]         1.08991   0.84728   1.40202\n",
       "C(직장만족도, Treatment('그렇지않다'))[T.그렇다]            5.10813   3.36017   7.76537\n",
       "C(직장만족도, Treatment('그렇지않다'))[T.보통이다]           2.30336   1.48496   3.57282\n",
       "주당근로시간                                         1.01502   1.00502   1.02513"
      ]
     },
     "execution_count": 11,
     "metadata": {},
     "output_type": "execute_result"
    }
   ],
   "source": [
    "print('==================================Odds Ratio=========================================')\n",
    "# 오즈비 계산(Confidence interval 포함)\n",
    "odds_ratios_3 = pd.DataFrame(\n",
    "    {\n",
    "        \"OR\": model_3.params,\n",
    "        \"Lower CI\": model_3.conf_int()[0],\n",
    "        \"Upper CI\": model_3.conf_int()[1],\n",
    "    }\n",
    ")\n",
    "odds_ratios_3 = np.exp(odds_ratios_3)\n",
    "odds_ratios_3"
   ]
  },
  {
   "cell_type": "code",
   "execution_count": 12,
   "metadata": {},
   "outputs": [
    {
     "data": {
      "image/png": "[encoded data removed]",
      "text/plain": [
       "<Figure size 1224x936 with 1 Axes>"
      ]
     },
     "metadata": {
      "needs_background": "light"
     },
     "output_type": "display_data"
    }
   ],
   "source": [
    "# 오즈비 순서대로 \n",
    "\n",
    "# Define the data\n",
    "data = [(var, odds_ratios_3.loc[var, \"OR\"], odds_ratios_3.loc[var, \"Lower CI\"], odds_ratios_3.loc[var, \"Upper CI\"]) for var in odds_ratios_3.index]\n",
    "\n",
    "# Sort the data by the odds ratio\n",
    "data = sorted(data, key=lambda x: x[1], reverse=True)\n",
    "\n",
    "# Set the figure size\n",
    "plt.figure(figsize=(17, 13))\n",
    "\n",
    "# Plot the data\n",
    "plt.errorbar([x[1] for x in data], range(len(data)), xerr=[x[1] - x[2] for x in data], fmt='s', color='black', \n",
    "             markersize=13, markerfacecolor='blue')\n",
    "\n",
    "# Add the vertical line\n",
    "plt.axvline(x=1, color='red', linestyle='--')\n",
    "\n",
    "# Add the labels and title\n",
    "plt.yticks(range(len(data)), [x[0] for x in data], fontsize=17)\n",
    "plt.xlabel('Odds Ratio', fontsize=15)\n",
    "plt.ylabel('Variable', fontsize=15)\n",
    "plt.title('Forest Plot of Odds Ratios(비수도)', fontsize=15)\n",
    "\n",
    "# Show the plot\n",
    "plt.show()"
   ]
  },
  {
   "cell_type": "markdown",
   "metadata": {},
   "source": [
    "##### 단변-------------"
   ]
  },
  {
   "cell_type": "code",
   "execution_count": 13,
   "metadata": {},
   "outputs": [
    {
     "name": "stdout",
     "output_type": "stream",
     "text": [
      "Optimization terminated successfully.\n",
      "         Current function value: 0.392343\n",
      "         Iterations 6\n",
      "==================================Model Summary=========================================\n",
      "                           Logit Regression Results                           \n",
      "==============================================================================\n",
      "Dep. Variable:              LongWork2   No. Observations:                 2684\n",
      "Model:                          Logit   Df Residuals:                     2682\n",
      "Method:                           MLE   Df Model:                            1\n",
      "Date:                Mon, 04 Nov 2024   Pseudo R-squ.:                 0.03155\n",
      "Time:                        23:00:49   Log-Likelihood:                -1053.0\n",
      "converged:                       True   LL-Null:                       -1087.4\n",
      "Covariance Type:            nonrobust   LLR p-value:                 1.195e-16\n",
      "==================================================================================================================\n",
      "                                                     coef    std err          z      P>|z|      [0.025      0.975]\n",
      "------------------------------------------------------------------------------------------------------------------\n",
      "Intercept                                         -2.0703      0.068    -30.598      0.000      -2.203      -1.938\n",
      "C(직장에서의복리후생제공여부, Treatment('제공하지않는다'))[T.제공한다]     1.0573      0.123      8.614      0.000       0.817       1.298\n",
      "==================================================================================================================\n",
      "==================================Odds Ratio=========================================\n"
     ]
    },
    {
     "data": {
      "text/html": [
       "<div>\n",
       "<style scoped>\n",
       "    .dataframe tbody tr th:only-of-type {\n",
       "        vertical-align: middle;\n",
       "    }\n",
       "\n",
       "    .dataframe tbody tr th {\n",
       "        vertical-align: top;\n",
       "    }\n",
       "\n",
       "    .dataframe thead th {\n",
       "        text-align: right;\n",
       "    }\n",
       "</style>\n",
       "<table border=\"1\" class=\"dataframe\">\n",
       "  <thead>\n",
       "    <tr style=\"text-align: right;\">\n",
       "      <th></th>\n",
       "      <th>OR</th>\n",
       "      <th>Lower CI</th>\n",
       "      <th>Upper CI</th>\n",
       "    </tr>\n",
       "  </thead>\n",
       "  <tbody>\n",
       "    <tr>\n",
       "      <th>Intercept</th>\n",
       "      <td>0.12615</td>\n",
       "      <td>0.11049</td>\n",
       "      <td>0.14404</td>\n",
       "    </tr>\n",
       "    <tr>\n",
       "      <th>C(직장에서의복리후생제공여부, Treatment('제공하지않는다'))[T.제공한다]</th>\n",
       "      <td>2.87846</td>\n",
       "      <td>2.26302</td>\n",
       "      <td>3.66126</td>\n",
       "    </tr>\n",
       "  </tbody>\n",
       "</table>\n",
       "</div>"
      ],
      "text/plain": [
       "                                                    OR  Lower CI  Upper CI\n",
       "Intercept                                      0.12615   0.11049   0.14404\n",
       "C(직장에서의복리후생제공여부, Treatment('제공하지않는다'))[T.제공한다] 2.87846   2.26302   3.66126"
      ]
     },
     "execution_count": 13,
     "metadata": {},
     "output_type": "execute_result"
    }
   ],
   "source": [
    "model_3 = sm.Logit.from_formula('''LongWork2 ~ \n",
    "    + C(직장에서의복리후생제공여부,Treatment('제공하지않는다'))\n",
    "    ''', 비수도권).fit()\n",
    "print('==================================Model Summary=========================================')\n",
    "print(model_3.summary())\n",
    "\n",
    "print('==================================Odds Ratio=========================================')\n",
    "# 오즈비 계산(Confidence interval 포함)\n",
    "odds_ratios_3 = pd.DataFrame(\n",
    "    {\n",
    "        \"OR\": model_3.params,\n",
    "        \"Lower CI\": model_3.conf_int()[0],\n",
    "        \"Upper CI\": model_3.conf_int()[1],\n",
    "    }\n",
    ")\n",
    "odds_ratios_3 = np.exp(odds_ratios_3)\n",
    "odds_ratios_3"
   ]
  },
  {
   "cell_type": "code",
   "execution_count": 14,
   "metadata": {},
   "outputs": [
    {
     "name": "stdout",
     "output_type": "stream",
     "text": [
      "Optimization terminated successfully.\n",
      "         Current function value: 0.403011\n",
      "         Iterations 6\n",
      "==================================Model Summary=========================================\n",
      "                           Logit Regression Results                           \n",
      "==============================================================================\n",
      "Dep. Variable:              LongWork2   No. Observations:                 2684\n",
      "Model:                          Logit   Df Residuals:                     2682\n",
      "Method:                           MLE   Df Model:                            1\n",
      "Date:                Mon, 04 Nov 2024   Pseudo R-squ.:                0.005221\n",
      "Time:                        23:00:49   Log-Likelihood:                -1081.7\n",
      "converged:                       True   LL-Null:                       -1087.4\n",
      "Covariance Type:            nonrobust   LLR p-value:                 0.0007526\n",
      "==========================================================================================================\n",
      "                                             coef    std err          z      P>|z|      [0.025      0.975]\n",
      "----------------------------------------------------------------------------------------------------------\n",
      "Intercept                                 -2.0246      0.087    -23.306      0.000      -2.195      -1.854\n",
      "C(보험가입여부, Treatment('가입하지않음'))[T.가입했다]     0.3787      0.113      3.344      0.001       0.157       0.601\n",
      "==========================================================================================================\n",
      "==================================Odds Ratio=========================================\n"
     ]
    },
    {
     "data": {
      "text/html": [
       "<div>\n",
       "<style scoped>\n",
       "    .dataframe tbody tr th:only-of-type {\n",
       "        vertical-align: middle;\n",
       "    }\n",
       "\n",
       "    .dataframe tbody tr th {\n",
       "        vertical-align: top;\n",
       "    }\n",
       "\n",
       "    .dataframe thead th {\n",
       "        text-align: right;\n",
       "    }\n",
       "</style>\n",
       "<table border=\"1\" class=\"dataframe\">\n",
       "  <thead>\n",
       "    <tr style=\"text-align: right;\">\n",
       "      <th></th>\n",
       "      <th>OR</th>\n",
       "      <th>Lower CI</th>\n",
       "      <th>Upper CI</th>\n",
       "    </tr>\n",
       "  </thead>\n",
       "  <tbody>\n",
       "    <tr>\n",
       "      <th>Intercept</th>\n",
       "      <td>0.13204</td>\n",
       "      <td>0.11137</td>\n",
       "      <td>0.15655</td>\n",
       "    </tr>\n",
       "    <tr>\n",
       "      <th>C(보험가입여부, Treatment('가입하지않음'))[T.가입했다]</th>\n",
       "      <td>1.46039</td>\n",
       "      <td>1.16969</td>\n",
       "      <td>1.82333</td>\n",
       "    </tr>\n",
       "  </tbody>\n",
       "</table>\n",
       "</div>"
      ],
      "text/plain": [
       "                                            OR  Lower CI  Upper CI\n",
       "Intercept                              0.13204   0.11137   0.15655\n",
       "C(보험가입여부, Treatment('가입하지않음'))[T.가입했다] 1.46039   1.16969   1.82333"
      ]
     },
     "execution_count": 14,
     "metadata": {},
     "output_type": "execute_result"
    }
   ],
   "source": [
    "model_3 = sm.Logit.from_formula('''LongWork2 ~ \n",
    "    C(보험가입여부,Treatment('가입하지않음'))\n",
    "    ''', 비수도권).fit()\n",
    "print('==================================Model Summary=========================================')\n",
    "print(model_3.summary())\n",
    "\n",
    "print('==================================Odds Ratio=========================================')\n",
    "# 오즈비 계산(Confidence interval 포함)\n",
    "odds_ratios_3 = pd.DataFrame(\n",
    "    {\n",
    "        \"OR\": model_3.params,\n",
    "        \"Lower CI\": model_3.conf_int()[0],\n",
    "        \"Upper CI\": model_3.conf_int()[1],\n",
    "    }\n",
    ")\n",
    "odds_ratios_3 = np.exp(odds_ratios_3)\n",
    "odds_ratios_3"
   ]
  },
  {
   "cell_type": "code",
   "execution_count": 15,
   "metadata": {},
   "outputs": [
    {
     "name": "stdout",
     "output_type": "stream",
     "text": [
      "Optimization terminated successfully.\n",
      "         Current function value: 0.403074\n",
      "         Iterations 6\n",
      "==================================Model Summary=========================================\n",
      "                           Logit Regression Results                           \n",
      "==============================================================================\n",
      "Dep. Variable:              LongWork2   No. Observations:                 2684\n",
      "Model:                          Logit   Df Residuals:                     2682\n",
      "Method:                           MLE   Df Model:                            1\n",
      "Date:                Mon, 04 Nov 2024   Pseudo R-squ.:                0.005064\n",
      "Time:                        23:00:49   Log-Likelihood:                -1081.9\n",
      "converged:                       True   LL-Null:                       -1087.4\n",
      "Covariance Type:            nonrobust   LLR p-value:                 0.0009046\n",
      "==============================================================================\n",
      "                 coef    std err          z      P>|z|      [0.025      0.975]\n",
      "------------------------------------------------------------------------------\n",
      "Intercept     -2.3412      0.174    -13.424      0.000      -2.683      -1.999\n",
      "주당근로시간         0.0146      0.004      3.262      0.001       0.006       0.023\n",
      "==============================================================================\n",
      "==================================Odds Ratio=========================================\n"
     ]
    },
    {
     "data": {
      "text/html": [
       "<div>\n",
       "<style scoped>\n",
       "    .dataframe tbody tr th:only-of-type {\n",
       "        vertical-align: middle;\n",
       "    }\n",
       "\n",
       "    .dataframe tbody tr th {\n",
       "        vertical-align: top;\n",
       "    }\n",
       "\n",
       "    .dataframe thead th {\n",
       "        text-align: right;\n",
       "    }\n",
       "</style>\n",
       "<table border=\"1\" class=\"dataframe\">\n",
       "  <thead>\n",
       "    <tr style=\"text-align: right;\">\n",
       "      <th></th>\n",
       "      <th>OR</th>\n",
       "      <th>Lower CI</th>\n",
       "      <th>Upper CI</th>\n",
       "    </tr>\n",
       "  </thead>\n",
       "  <tbody>\n",
       "    <tr>\n",
       "      <th>Intercept</th>\n",
       "      <td>0.09622</td>\n",
       "      <td>0.06836</td>\n",
       "      <td>0.13542</td>\n",
       "    </tr>\n",
       "    <tr>\n",
       "      <th>주당근로시간</th>\n",
       "      <td>1.01466</td>\n",
       "      <td>1.00583</td>\n",
       "      <td>1.02358</td>\n",
       "    </tr>\n",
       "  </tbody>\n",
       "</table>\n",
       "</div>"
      ],
      "text/plain": [
       "               OR  Lower CI  Upper CI\n",
       "Intercept 0.09622   0.06836   0.13542\n",
       "주당근로시간    1.01466   1.00583   1.02358"
      ]
     },
     "execution_count": 15,
     "metadata": {},
     "output_type": "execute_result"
    }
   ],
   "source": [
    "model_3 = sm.Logit.from_formula('''LongWork2 ~ \n",
    "   주당근로시간''', 비수도권).fit()\n",
    "print('==================================Model Summary=========================================')\n",
    "print(model_3.summary())\n",
    "\n",
    "print('==================================Odds Ratio=========================================')\n",
    "# 오즈비 계산(Confidence interval 포함)\n",
    "odds_ratios_3 = pd.DataFrame(\n",
    "    {\n",
    "        \"OR\": model_3.params,\n",
    "        \"Lower CI\": model_3.conf_int()[0],\n",
    "        \"Upper CI\": model_3.conf_int()[1],\n",
    "    }\n",
    ")\n",
    "odds_ratios_3 = np.exp(odds_ratios_3)\n",
    "odds_ratios_3"
   ]
  },
  {
   "cell_type": "code",
   "execution_count": 16,
   "metadata": {},
   "outputs": [
    {
     "name": "stdout",
     "output_type": "stream",
     "text": [
      "Optimization terminated successfully.\n",
      "         Current function value: 0.385323\n",
      "         Iterations 7\n",
      "==================================Model Summary=========================================\n",
      "                           Logit Regression Results                           \n",
      "==============================================================================\n",
      "Dep. Variable:              LongWork2   No. Observations:                 2684\n",
      "Model:                          Logit   Df Residuals:                     2681\n",
      "Method:                           MLE   Df Model:                            2\n",
      "Date:                Mon, 04 Nov 2024   Pseudo R-squ.:                 0.04888\n",
      "Time:                        23:00:49   Log-Likelihood:                -1034.2\n",
      "converged:                       True   LL-Null:                       -1087.4\n",
      "Covariance Type:            nonrobust   LLR p-value:                 8.253e-24\n",
      "========================================================================================================\n",
      "                                           coef    std err          z      P>|z|      [0.025      0.975]\n",
      "--------------------------------------------------------------------------------------------------------\n",
      "Intercept                               -2.9522      0.197    -14.955      0.000      -3.339      -2.565\n",
      "C(직장만족도, Treatment('그렇지않다'))[T.그렇다]      1.6690      0.210      7.930      0.000       1.256       2.081\n",
      "C(직장만족도, Treatment('그렇지않다'))[T.보통이다]     0.8138      0.222      3.668      0.000       0.379       1.249\n",
      "========================================================================================================\n",
      "==================================Odds Ratio=========================================\n"
     ]
    },
    {
     "data": {
      "text/html": [
       "<div>\n",
       "<style scoped>\n",
       "    .dataframe tbody tr th:only-of-type {\n",
       "        vertical-align: middle;\n",
       "    }\n",
       "\n",
       "    .dataframe tbody tr th {\n",
       "        vertical-align: top;\n",
       "    }\n",
       "\n",
       "    .dataframe thead th {\n",
       "        text-align: right;\n",
       "    }\n",
       "</style>\n",
       "<table border=\"1\" class=\"dataframe\">\n",
       "  <thead>\n",
       "    <tr style=\"text-align: right;\">\n",
       "      <th></th>\n",
       "      <th>OR</th>\n",
       "      <th>Lower CI</th>\n",
       "      <th>Upper CI</th>\n",
       "    </tr>\n",
       "  </thead>\n",
       "  <tbody>\n",
       "    <tr>\n",
       "      <th>Intercept</th>\n",
       "      <td>0.05222</td>\n",
       "      <td>0.03547</td>\n",
       "      <td>0.07690</td>\n",
       "    </tr>\n",
       "    <tr>\n",
       "      <th>C(직장만족도, Treatment('그렇지않다'))[T.그렇다]</th>\n",
       "      <td>5.30665</td>\n",
       "      <td>3.51300</td>\n",
       "      <td>8.01609</td>\n",
       "    </tr>\n",
       "    <tr>\n",
       "      <th>C(직장만족도, Treatment('그렇지않다'))[T.보통이다]</th>\n",
       "      <td>2.25638</td>\n",
       "      <td>1.46068</td>\n",
       "      <td>3.48553</td>\n",
       "    </tr>\n",
       "  </tbody>\n",
       "</table>\n",
       "</div>"
      ],
      "text/plain": [
       "                                          OR  Lower CI  Upper CI\n",
       "Intercept                            0.05222   0.03547   0.07690\n",
       "C(직장만족도, Treatment('그렇지않다'))[T.그렇다]  5.30665   3.51300   8.01609\n",
       "C(직장만족도, Treatment('그렇지않다'))[T.보통이다] 2.25638   1.46068   3.48553"
      ]
     },
     "execution_count": 16,
     "metadata": {},
     "output_type": "execute_result"
    }
   ],
   "source": [
    "model_3 = sm.Logit.from_formula('''LongWork2 ~ \n",
    "    C(직장만족도,Treatment('그렇지않다'))''', 비수도권).fit()\n",
    "print('==================================Model Summary=========================================')\n",
    "print(model_3.summary())\n",
    "\n",
    "print('==================================Odds Ratio=========================================')\n",
    "# 오즈비 계산(Confidence interval 포함)\n",
    "odds_ratios_3 = pd.DataFrame(\n",
    "    {\n",
    "        \"OR\": model_3.params,\n",
    "        \"Lower CI\": model_3.conf_int()[0],\n",
    "        \"Upper CI\": model_3.conf_int()[1],\n",
    "    }\n",
    ")\n",
    "odds_ratios_3 = np.exp(odds_ratios_3)\n",
    "odds_ratios_3"
   ]
  },
  {
   "cell_type": "code",
   "execution_count": null,
   "metadata": {},
   "outputs": [],
   "source": []
  },
  {
   "cell_type": "code",
   "execution_count": null,
   "metadata": {},
   "outputs": [],
   "source": []
  },
  {
   "cell_type": "code",
   "execution_count": null,
   "metadata": {},
   "outputs": [],
   "source": []
  },
  {
   "cell_type": "code",
   "execution_count": null,
   "metadata": {},
   "outputs": [],
   "source": []
  },
  {
   "cell_type": "code",
   "execution_count": null,
   "metadata": {},
   "outputs": [],
   "source": []
  }
 ],
 "metadata": {
  "kernelspec": {
   "display_name": "Python 3 (ipykernel)",
   "language": "python",
   "name": "python3"
  },
  "language_info": {
   "codemirror_mode": {
    "name": "ipython",
    "version": 3
   },
   "file_extension": ".py",
   "mimetype": "text/x-python",
   "name": "python",
   "nbconvert_exporter": "python",
   "pygments_lexer": "ipython3",
   "version": "3.8.13"
  }
 },
 "nbformat": 4,
 "nbformat_minor": 2
}
