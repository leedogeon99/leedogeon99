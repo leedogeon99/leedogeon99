{
 "cells": [
  {
   "cell_type": "code",
   "execution_count": 1,
   "id": "b781b53d",
   "metadata": {},
   "outputs": [
    {
     "name": "stdout",
     "output_type": "stream",
     "text": [
      "Requirement already satisfied: selenium in /Users/idogeon/opt/anaconda3/lib/python3.8/site-packages (4.7.2)\r\n",
      "Requirement already satisfied: certifi>=2021.10.8 in /Users/idogeon/opt/anaconda3/lib/python3.8/site-packages (from selenium) (2022.12.7)\r\n",
      "Requirement already satisfied: urllib3[socks]~=1.26 in /Users/idogeon/opt/anaconda3/lib/python3.8/site-packages (from selenium) (1.26.7)\r\n",
      "Requirement already satisfied: trio-websocket~=0.9 in /Users/idogeon/opt/anaconda3/lib/python3.8/site-packages (from selenium) (0.9.2)\r\n",
      "Requirement already satisfied: trio~=0.17 in /Users/idogeon/opt/anaconda3/lib/python3.8/site-packages (from selenium) (0.22.0)\r\n",
      "Requirement already satisfied: exceptiongroup>=1.0.0rc9 in /Users/idogeon/opt/anaconda3/lib/python3.8/site-packages (from trio~=0.17->selenium) (1.1.0)\r\n",
      "Requirement already satisfied: sniffio in /Users/idogeon/opt/anaconda3/lib/python3.8/site-packages (from trio~=0.17->selenium) (1.2.0)\r\n",
      "Requirement already satisfied: async-generator>=1.9 in /Users/idogeon/opt/anaconda3/lib/python3.8/site-packages (from trio~=0.17->selenium) (1.10)\r\n",
      "Requirement already satisfied: idna in /Users/idogeon/opt/anaconda3/lib/python3.8/site-packages (from trio~=0.17->selenium) (3.2)\r\n",
      "Requirement already satisfied: attrs>=19.2.0 in /Users/idogeon/opt/anaconda3/lib/python3.8/site-packages (from trio~=0.17->selenium) (21.2.0)\r\n",
      "Requirement already satisfied: sortedcontainers in /Users/idogeon/opt/anaconda3/lib/python3.8/site-packages (from trio~=0.17->selenium) (2.4.0)\r\n",
      "Requirement already satisfied: outcome in /Users/idogeon/opt/anaconda3/lib/python3.8/site-packages (from trio~=0.17->selenium) (1.2.0)\r\n",
      "Requirement already satisfied: wsproto>=0.14 in /Users/idogeon/opt/anaconda3/lib/python3.8/site-packages (from trio-websocket~=0.9->selenium) (1.2.0)\r\n",
      "Requirement already satisfied: PySocks!=1.5.7,<2.0,>=1.5.6 in /Users/idogeon/opt/anaconda3/lib/python3.8/site-packages (from urllib3[socks]~=1.26->selenium) (1.7.1)\r\n",
      "Requirement already satisfied: h11<1,>=0.9.0 in /Users/idogeon/opt/anaconda3/lib/python3.8/site-packages (from wsproto>=0.14->trio-websocket~=0.9->selenium) (0.14.0)\r\n"
     ]
    }
   ],
   "source": [
    "!pip install selenium"
   ]
  },
  {
   "cell_type": "code",
   "execution_count": 2,
   "id": "d6ec7875",
   "metadata": {},
   "outputs": [],
   "source": [
    "from selenium import webdriver\n",
    "from bs4 import BeautifulSoup\n",
    "import time\n",
    "import re\n",
    "import time\n",
    "from selenium.webdriver.common.keys import Keys\n",
    "from time import sleep\n",
    "from random import randint\n",
    "from selenium.webdriver.common.by import By"
   ]
  },
  {
   "cell_type": "code",
   "execution_count": 3,
   "id": "b8569645",
   "metadata": {},
   "outputs": [],
   "source": [
    "# 함수 정의 : 검색어 조건에 따른 url 생성\n",
    "\n",
    "def insta_searching(word):\n",
    "    url = \"http://www.instagram.com/explore/tags/\" + str(word)\n",
    "    return url"
   ]
  },
  {
   "cell_type": "code",
   "execution_count": 4,
   "id": "652ad60f",
   "metadata": {},
   "outputs": [],
   "source": [
    "# 함수 정의 : 열린 페이지에서 첫 번째 게시물 클릭 + sleep 메소드 통하여 시차 두기\n",
    "def select_first(driver):\n",
    "    first = driver.find_elements(By.CSS_SELECTOR,\"div._aagw\")[0]\n",
    "    first.click()\n",
    "    time.sleep(5)"
   ]
  },
  {
   "cell_type": "code",
   "execution_count": 5,
   "id": "881088c7",
   "metadata": {},
   "outputs": [],
   "source": [
    "# 함수 정의 : 본문 내용, 작성일자, 좋아요 수 , 위치 정보, 해시태그 가져오기\n",
    "import re\n",
    "from bs4 import BeautifulSoup\n",
    "\n",
    "def get_content(driver):\n",
    "    html = driver.page_source\n",
    "    soup = BeautifulSoup(html,'lxml')\n",
    "    # 본문 내용\n",
    "    try:\n",
    "        content = soup.select('div._a9zs')[0].text\n",
    "    except:\n",
    "        content = ' '\n",
    "    # 해시태그\n",
    "    tags = re.findall(r'#[^\\s#,\\\\]+',content)\n",
    "    # 작성일자\n",
    "    date = soup.select('time._a9ze._a9zf')[0]['datetime'][:10]\n",
    "    # 좋아요\n",
    "    try:\n",
    "        like = soup.select('div._aacl._aaco._aacw._aacx._aada._aade')[0].findAll('span')[-1].text\n",
    "    except:\n",
    "        like = 0\n",
    "    # 위치\n",
    "    try:\n",
    "        place = soup.select('div._aacl._aacn._aacu._aacy._aada._aade')[0].text\n",
    "    except:\n",
    "        place = ''\n",
    "        \n",
    "    data = [content, date, like, place, tags]\n",
    "    return data\n"
   ]
  },
  {
   "cell_type": "code",
   "execution_count": 139,
   "id": "c5be7a3f",
   "metadata": {},
   "outputs": [],
   "source": [
    "## 함수 정의 : 본문 내용, 작성일자, 좋아요 수 , 위치 정보, 해시태그 가져오기\n",
    "#import re\n",
    "#from bs4 import BeautifulSoup\n",
    "\n",
    "#def get_content(driver):\n",
    "#    html = driver.page_source\n",
    "#    soup = BeautifulSoup(html,'lxml')\n",
    "    # 본문 내용\n",
    "#    try:\n",
    "#        content = soup.select('div._a9zs')[0].text\n",
    "#    except:\n",
    "#        content = ' '\n",
    "    # 해시태그\n",
    "#    tags = re.findall(r'#[^\\s#,\\\\]+',content)\n",
    "    # 작성일자\n",
    "#    date = soup.select('time._aaqe')[0]['datetime'][:10]\n",
    "    # 좋아요\n",
    "#    try:\n",
    "#        like = soup.select('div.aacl._aaco._aacw._aacx._aada._aade')[0].findAll('span')[-1].text\n",
    "#    except:\n",
    "#        like = 0\n",
    "    # 위치\n",
    "#    try:\n",
    "#        place = soup.select('div.aaqm')[0].text\n",
    "#    except:\n",
    "#        place = ''\n",
    "        \n",
    "#    data = [content, date, like, place, tags]\n",
    "#    return data"
   ]
  },
  {
   "cell_type": "code",
   "execution_count": 6,
   "id": "5dfe4d6a",
   "metadata": {},
   "outputs": [],
   "source": [
    "# 함수 정의 : 첫 번째 게시물 클릭 후 다음 게시물 클릭\n",
    "def move_next(driver):\n",
    "    right = driver.find_element(By.CSS_SELECTOR,'div._aaqg._aaqh')\n",
    "    right.click()\n",
    "    time.sleep(5)"
   ]
  },
  {
   "cell_type": "code",
   "execution_count": 7,
   "id": "ff81f9c4",
   "metadata": {},
   "outputs": [
    {
     "name": "stderr",
     "output_type": "stream",
     "text": [
      "/var/folders/fg/dhn95vq957b8mxwmlk_04wv40000gn/T/ipykernel_28305/2312833724.py:8: DeprecationWarning: executable_path has been deprecated, please pass in a Service object\n",
      "  driver = webdriver.Chrome('chromedriver.exe')\n"
     ]
    },
    {
     "ename": "IndexError",
     "evalue": "list index out of range",
     "output_type": "error",
     "traceback": [
      "\u001b[0;31m---------------------------------------------------------------------------\u001b[0m",
      "\u001b[0;31mIndexError\u001b[0m                                Traceback (most recent call last)",
      "Input \u001b[0;32mIn [7]\u001b[0m, in \u001b[0;36m<cell line: 15>\u001b[0;34m()\u001b[0m\n\u001b[1;32m     13\u001b[0m \u001b[38;5;66;03m# 인스타그램 로그인을 위한 계정 정보\u001b[39;00m\n\u001b[1;32m     14\u001b[0m email \u001b[38;5;241m=\u001b[39m \u001b[38;5;124m'\u001b[39m\u001b[38;5;124m'\u001b[39m\n\u001b[0;32m---> 15\u001b[0m input_id \u001b[38;5;241m=\u001b[39m \u001b[43mdriver\u001b[49m\u001b[38;5;241;43m.\u001b[39;49m\u001b[43mfind_elements\u001b[49m\u001b[43m(\u001b[49m\u001b[43mBy\u001b[49m\u001b[38;5;241;43m.\u001b[39;49m\u001b[43mCSS_SELECTOR\u001b[49m\u001b[43m,\u001b[49m\u001b[38;5;124;43m'\u001b[39;49m\u001b[38;5;124;43minput._2hvTZ.pexuQ.zyHYP\u001b[39;49m\u001b[38;5;124;43m'\u001b[39;49m\u001b[43m)\u001b[49m\u001b[43m[\u001b[49m\u001b[38;5;241;43m0\u001b[39;49m\u001b[43m]\u001b[49m\n\u001b[1;32m     16\u001b[0m input_id\u001b[38;5;241m.\u001b[39mclear()\n\u001b[1;32m     17\u001b[0m input_id\u001b[38;5;241m.\u001b[39msend_keys(email)\n",
      "\u001b[0;31mIndexError\u001b[0m: list index out of range"
     ]
    }
   ],
   "source": [
    "# 크롤링 시작\n",
    "\"\"\"\n",
    "dirver.get(url)을 통해 검색 페이지 접속하고, \n",
    "target 변수에 크롤링할 게시글의 수를 바인딩\n",
    "\"\"\"\n",
    "\n",
    "# 크롬 부라우저 열기\n",
    "driver = webdriver.Chrome('chromedriver.exe')\n",
    "\n",
    "driver.get('http://www.instagram.com')\n",
    "time.sleep(3)\n",
    "\n",
    "# 인스타그램 로그인을 위한 계정 정보\n",
    "email = ''\n",
    "input_id = driver.find_elements(By.CSS_SELECTOR,'input._2hvTZ.pexuQ.zyHYP')[0]\n",
    "input_id.clear()\n",
    "input_id.send_keys(email)\n",
    "\n",
    "password = ''\n",
    "input_pw = driver.find_elements(By.CSS_SELECTOR,'input._2hvTZ.pexuQ.zyHYP')[1]\n",
    "input_pw.clear()\n",
    "input_pw.send_keys(password)\n",
    "input_pw.submit()\n",
    "\n",
    "time.sleep(5)\n",
    "\n",
    "# 게시물을 조회할 검색 키워드 입력 요청\n",
    "word = input(\"검색어를 입력하세요 :\")\n",
    "word = str(word)\n",
    "url = insta_searching(word)\n",
    "\n",
    "# 검색 결과 페이지 열기\n",
    "driver.get(url)\n",
    "time.sleep(10)\n",
    "\n",
    "# 첫 번째 게시물 클릭\n",
    "select_first(driver)\n",
    "\n",
    "# 본격적으로 데이터 수집 시작\n",
    "results = []\n",
    "## 수집할 게시물의 수\n",
    "target = 10\n",
    "for i in range(target):\n",
    "    \n",
    "    try:\n",
    "        data = get_content(driver)\n",
    "        results.append(data)\n",
    "        move_next(driver)\n",
    "    except:\n",
    "        time.sleep(2)\n",
    "        move_next(driver)\n",
    "    time.sleep(5)\n",
    "        \n",
    "print(results[:2])"
   ]
  },
  {
   "cell_type": "code",
   "execution_count": 8,
   "id": "6cd729d4",
   "metadata": {},
   "outputs": [],
   "source": [
    "from selenium.webdriver.common.by import By"
   ]
  },
  {
   "cell_type": "code",
   "execution_count": null,
   "id": "476075bb",
   "metadata": {
    "scrolled": false
   },
   "outputs": [],
   "source": [
    "# 게시물을 조회할 검색 키워드 입력 요청\n",
    "word = input(\"검색어를 입력하세요 :\")\n",
    "word = str(word)\n",
    "url = insta_searching(word)\n",
    "\n",
    "# 검색 결과 페이지 열기\n",
    "driver.get(url)\n",
    "time.sleep(10)\n",
    "\n",
    "# 첫 번째 게시물 클릭\n",
    "select_first(driver)\n",
    "\n",
    "# 본격적으로 데이터 수집 시작\n",
    "results = []\n",
    "## 수집할 게시물의 수\n",
    "target = 10\n",
    "for i in range(target):\n",
    "    \n",
    "    try:\n",
    "        data = get_content(driver)\n",
    "        results.append(data)\n",
    "        move_next(driver)\n",
    "    except:\n",
    "        time.sleep(5)\n",
    "        move_next(driver)\n",
    "    time.sleep(5)\n",
    "        \n",
    "print(results[:2])"
   ]
  },
  {
   "cell_type": "code",
   "execution_count": 76,
   "id": "29a6af88",
   "metadata": {},
   "outputs": [
    {
     "name": "stdout",
     "output_type": "stream",
     "text": [
      "[['같이 걸을까?', '2021-11-03', 0, '', []], ['라펠 드래그 스윕 쓰윽~', '2022-04-19', 0, '', []], ['#Lafel 속의 제 모습을 보는데 낯설어서 자꾸 어색한 표정이 나오네요 😚제가 늘 카메라 뒤에 있는 사람이라 그런지, #라펠 촬영장에서도 분주하게 움직이는 스태프분들 먼저 보이더라고요. 애정 가지고 잘 만들어 주셔서 감사합니다 \\U0001faf6🏻그리고, 사랑해요 라펠 💚', '2022-11-09', 0, '', ['#Lafel', '#라펠']]]\n"
     ]
    }
   ],
   "source": [
    "print(results[:])"
   ]
  },
  {
   "cell_type": "code",
   "execution_count": 27,
   "id": "bb09a9c9",
   "metadata": {},
   "outputs": [],
   "source": [
    "# 결과를 데이터프레임으로 저장\n",
    "import pandas as pd\n",
    "from datetime import datetime\n",
    "\n",
    "date = datetime.today().strftime('%Y-%m-%d')\n",
    "\n",
    "results_df = pd.DataFrame(results)\n",
    "results_df.columns = ['content', 'date','like','place', 'tags']"
   ]
  },
  {
   "cell_type": "code",
   "execution_count": 72,
   "id": "aa5d995e",
   "metadata": {},
   "outputs": [],
   "source": [
    "# 결과를 데이터프레임으로 저장\n",
    "import pandas as pd\n",
    "from datetime import datetime\n",
    "\n",
    "date = datetime.today().strftime('%Y-%m-%d')\n",
    "\n",
    "results_df = pd.DataFrame(results)\n",
    "results_df.columns = ['content', 'date','like','place', 'tags']\n",
    "results_df.to_excel(date + '_about' + word + 'insta crawling.xlsx')"
   ]
  },
  {
   "cell_type": "code",
   "execution_count": 28,
   "id": "3567e7c2",
   "metadata": {},
   "outputs": [
    {
     "data": {
      "text/html": [
       "<div>\n",
       "<style scoped>\n",
       "    .dataframe tbody tr th:only-of-type {\n",
       "        vertical-align: middle;\n",
       "    }\n",
       "\n",
       "    .dataframe tbody tr th {\n",
       "        vertical-align: top;\n",
       "    }\n",
       "\n",
       "    .dataframe thead th {\n",
       "        text-align: right;\n",
       "    }\n",
       "</style>\n",
       "<table border=\"1\" class=\"dataframe\">\n",
       "  <thead>\n",
       "    <tr style=\"text-align: right;\">\n",
       "      <th></th>\n",
       "      <th>content</th>\n",
       "      <th>date</th>\n",
       "      <th>like</th>\n",
       "      <th>place</th>\n",
       "      <th>tags</th>\n",
       "    </tr>\n",
       "  </thead>\n",
       "  <tbody>\n",
       "    <tr>\n",
       "      <th>0</th>\n",
       "      <td>같이 걸을까?</td>\n",
       "      <td>2021-11-03</td>\n",
       "      <td>512</td>\n",
       "      <td>Daegu, South Korea</td>\n",
       "      <td>[]</td>\n",
       "    </tr>\n",
       "    <tr>\n",
       "      <th>1</th>\n",
       "      <td>남자는 #수트대구 남자 수트는 #라펠 에서ㅇㅈ?</td>\n",
       "      <td>2022-04-12</td>\n",
       "      <td>839</td>\n",
       "      <td>Daegu, South Korea</td>\n",
       "      <td>[#수트대구, #라펠]</td>\n",
       "    </tr>\n",
       "  </tbody>\n",
       "</table>\n",
       "</div>"
      ],
      "text/plain": [
       "                      content        date like               place  \\\n",
       "0                     같이 걸을까?  2021-11-03  512  Daegu, South Korea   \n",
       "1  남자는 #수트대구 남자 수트는 #라펠 에서ㅇㅈ?  2022-04-12  839  Daegu, South Korea   \n",
       "\n",
       "           tags  \n",
       "0            []  \n",
       "1  [#수트대구, #라펠]  "
      ]
     },
     "execution_count": 28,
     "metadata": {},
     "output_type": "execute_result"
    }
   ],
   "source": [
    "results_df"
   ]
  },
  {
   "cell_type": "code",
   "execution_count": null,
   "id": "0c5133f5",
   "metadata": {},
   "outputs": [],
   "source": [
    "/html/body/div[2]/div/div/div/div[2]/div/div/div[1]/div/div[3]/div/div/div/div/div[2]/div/article/div/div[3]/div/div/section[2]/div/div/div/a/div/span"
   ]
  },
  {
   "cell_type": "code",
   "execution_count": null,
   "id": "e721764b",
   "metadata": {},
   "outputs": [],
   "source": [
    "#05. 좋아요와 댓글 수 크롤링\n",
    "'''\n",
    "좋아요수와 댓글수가 동일한 선택자로 구성됨\n",
    "두 값을 같이 받아온 후, 슬라이싱\n",
    "'''\n",
    "likes_commnets = dr.find_elements_by_xpath('//*[@id=\"mount_0_0_BL\"]/div/div[1]/div/div[1]/div/div/div[1]/div[1]/section/main/div/div[5]/article/div[1]/div/div[1]/div[1]/a/div[2]/ul/li/div/span')\n",
    "\n",
    "#인덱스를 사용해 좋아요수와 댓글수 구분\n",
    "likes = likes_commnets[0].text\n",
    "comments = likes_commnets[1].text\n",
    "\n",
    "print(likes)\n",
    "print(comments)"
   ]
  }
 ],
 "metadata": {
  "kernelspec": {
   "display_name": "Python 3 (ipykernel)",
   "language": "python",
   "name": "python3"
  },
  "language_info": {
   "codemirror_mode": {
    "name": "ipython",
    "version": 3
   },
   "file_extension": ".py",
   "mimetype": "text/x-python",
   "name": "python",
   "nbconvert_exporter": "python",
   "pygments_lexer": "ipython3",
   "version": "3.8.13"
  }
 },
 "nbformat": 4,
 "nbformat_minor": 5
}
